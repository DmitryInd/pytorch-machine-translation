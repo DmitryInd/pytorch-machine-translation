{
 "cells": [
  {
   "cell_type": "markdown",
   "id": "99649a17",
   "metadata": {
    "cellId": "r1futqjw2128i49z67xcr",
    "execution_id": "8cced2c4-818a-4864-8f67-3c382fcd036e"
   },
   "source": [
    "### Домашнее задание Transformers Training (50 баллов)"
   ]
  },
  {
   "cell_type": "markdown",
   "id": "40752c94",
   "metadata": {
    "cellId": "mnwtq79j09khxxrqzgzq2w",
    "execution_id": "68b49a65-13d0-4851-a703-15db4b1416d7"
   },
   "source": [
    "В этом домашнем задании требуется обучить несколько Transformer-based моделей в задаче машинного перевода. Для обучения можно воспользоваться текущим проектом, так и реализовать свой пайплайн обучения. Если будете использовать проект, теги **TODO** проекта отмечают, какие компоненты надо реализовать.\n",
    "В ноутбуке нужно только отобразить результаты обучения и выводы. Архитектура модели(количество слоев, размерность и тд) остается на ваш выбор.\n",
    "\n",
    "Ваш код обучения нужно выложить на ваш github, в строке ниже дать ссылку на него. В первую очередь будут оцениваться результаты в ноутбуке, код нужен для проверки адекватности результатов. \n",
    "\n",
    "Обучать модели до конца не нужно, только для демонстрации, что модель обучается и рабочая - снижение val_loss, рост bleu_score."
   ]
  },
  {
   "cell_type": "markdown",
   "id": "1d527502",
   "metadata": {
    "cellId": "n66og52tgkl0rmfr1mp6h8",
    "execution_id": "00620d37-82a6-43fb-9a27-3770af4932fc"
   },
   "source": [
    "#### Сcылка на ваш github с проектом - https://github.com/DmitryInd/pytorch-machine-translation\n",
    "\n",
    "Ноутбук с результатами выкладывать на ваш **google диск** курса. "
   ]
  },
  {
   "cell_type": "markdown",
   "id": "0e6568e1",
   "metadata": {
    "cellId": "5dry5kdrusbzvu1ollmuzd",
    "execution_id": "68ee054f-c011-4f3f-b56e-4cc42745b0c1"
   },
   "source": [
    "### Данные\n",
    "\n",
    "`\n",
    "wget https://www.manythings.org/anki/rus-eng.zip && unzip rus-eng.zip\n",
    "`\n",
    "\n",
    "Модели нужно обучить на задаче перевода с английского на русский."
   ]
  },
  {
   "cell_type": "code",
   "execution_count": 1,
   "id": "e86ce2c7",
   "metadata": {
    "ExecuteTime": {
     "end_time": "2023-05-12T19:07:55.297768491Z",
     "start_time": "2023-05-12T19:07:55.296872444Z"
    },
    "cellId": "mywe758eqiolqzkvdlazid",
    "collapsed": false,
    "jupyter": {
     "outputs_hidden": false
    }
   },
   "outputs": [],
   "source": [
    "# !wget https://www.manythings.org/anki/rus-eng.zip && unzip rus-eng.zip"
   ]
  },
  {
   "cell_type": "markdown",
   "id": "d0304f84",
   "metadata": {
    "cellId": "z0ffyehoajfjlie0yn2y9",
    "execution_id": "fee09697-c522-4e66-b859-f673d7b0fcb0"
   },
   "source": [
    "### Вспомогательные функции"
   ]
  },
  {
   "cell_type": "code",
   "execution_count": 20,
   "id": "0f821509",
   "metadata": {
    "cellId": "p52l1xfl3d9kxyr6324y1r"
   },
   "outputs": [
    {
     "name": "stdout",
     "output_type": "stream",
     "text": [
      "Defaulting to user installation because normal site-packages is not writeable\n",
      "Collecting sentencepiece\n",
      "  Downloading sentencepiece-0.1.99-cp38-cp38-manylinux_2_17_x86_64.manylinux2014_x86_64.whl (1.3 MB)\n",
      "     |████████████████████████████████| 1.3 MB 1.7 MB/s            \n",
      "\u001b[?25hRequirement already satisfied: torchtext in /home/jupyter/.local/lib/python3.8/site-packages (0.15.2)\n",
      "Requirement already satisfied: huggingface-hub in /usr/local/lib/python3.8/dist-packages (0.2.1)\n",
      "Requirement already satisfied: transformers in /usr/local/lib/python3.8/dist-packages (4.14.0)\n",
      "Requirement already satisfied: tokenizer in /home/jupyter/.local/lib/python3.8/site-packages (3.4.2)\n",
      "Requirement already satisfied: numpy in /usr/local/lib/python3.8/dist-packages (from torchtext) (1.19.2)\n",
      "Requirement already satisfied: requests in /kernel/lib/python3.8/site-packages (from torchtext) (2.28.2)\n",
      "Requirement already satisfied: torch==2.0.1 in /home/jupyter/.local/lib/python3.8/site-packages (from torchtext) (2.0.1)\n",
      "Requirement already satisfied: tqdm in /usr/local/lib/python3.8/dist-packages (from torchtext) (4.50.0)\n",
      "Requirement already satisfied: torchdata==0.6.1 in /home/jupyter/.local/lib/python3.8/site-packages (from torchtext) (0.6.1)\n",
      "Requirement already satisfied: nvidia-cudnn-cu11==8.5.0.96 in /home/jupyter/.local/lib/python3.8/site-packages (from torch==2.0.1->torchtext) (8.5.0.96)\n",
      "Requirement already satisfied: typing-extensions in /usr/local/lib/python3.8/dist-packages (from torch==2.0.1->torchtext) (3.7.4.3)\n",
      "Requirement already satisfied: filelock in /usr/local/lib/python3.8/dist-packages (from torch==2.0.1->torchtext) (3.4.2)\n",
      "Requirement already satisfied: nvidia-cusolver-cu11==11.4.0.1 in /home/jupyter/.local/lib/python3.8/site-packages (from torch==2.0.1->torchtext) (11.4.0.1)\n",
      "Requirement already satisfied: jinja2 in /kernel/lib/python3.8/site-packages (from torch==2.0.1->torchtext) (3.1.2)\n",
      "Requirement already satisfied: nvidia-cufft-cu11==10.9.0.58 in /home/jupyter/.local/lib/python3.8/site-packages (from torch==2.0.1->torchtext) (10.9.0.58)\n",
      "Requirement already satisfied: nvidia-cuda-cupti-cu11==11.7.101 in /home/jupyter/.local/lib/python3.8/site-packages (from torch==2.0.1->torchtext) (11.7.101)\n",
      "Requirement already satisfied: nvidia-cuda-runtime-cu11==11.7.99 in /home/jupyter/.local/lib/python3.8/site-packages (from torch==2.0.1->torchtext) (11.7.99)\n",
      "Requirement already satisfied: triton==2.0.0 in /home/jupyter/.local/lib/python3.8/site-packages (from torch==2.0.1->torchtext) (2.0.0)\n",
      "Requirement already satisfied: nvidia-cuda-nvrtc-cu11==11.7.99 in /home/jupyter/.local/lib/python3.8/site-packages (from torch==2.0.1->torchtext) (11.7.99)\n",
      "Requirement already satisfied: sympy in /home/jupyter/.local/lib/python3.8/site-packages (from torch==2.0.1->torchtext) (1.12)\n",
      "Requirement already satisfied: nvidia-cusparse-cu11==11.7.4.91 in /home/jupyter/.local/lib/python3.8/site-packages (from torch==2.0.1->torchtext) (11.7.4.91)\n",
      "Requirement already satisfied: networkx in /usr/local/lib/python3.8/dist-packages (from torch==2.0.1->torchtext) (2.4)\n",
      "Requirement already satisfied: nvidia-curand-cu11==10.2.10.91 in /home/jupyter/.local/lib/python3.8/site-packages (from torch==2.0.1->torchtext) (10.2.10.91)\n",
      "Requirement already satisfied: nvidia-nvtx-cu11==11.7.91 in /home/jupyter/.local/lib/python3.8/site-packages (from torch==2.0.1->torchtext) (11.7.91)\n",
      "Requirement already satisfied: nvidia-nccl-cu11==2.14.3 in /home/jupyter/.local/lib/python3.8/site-packages (from torch==2.0.1->torchtext) (2.14.3)\n",
      "Requirement already satisfied: nvidia-cublas-cu11==11.10.3.66 in /home/jupyter/.local/lib/python3.8/site-packages (from torch==2.0.1->torchtext) (11.10.3.66)\n",
      "Requirement already satisfied: urllib3>=1.25 in /kernel/lib/python3.8/site-packages (from torchdata==0.6.1->torchtext) (1.26.15)\n",
      "Requirement already satisfied: wheel in /usr/local/lib/python3.8/dist-packages (from nvidia-cublas-cu11==11.10.3.66->torch==2.0.1->torchtext) (0.37.1)\n",
      "Requirement already satisfied: setuptools in /kernel/lib/python3.8/site-packages (from nvidia-cublas-cu11==11.10.3.66->torch==2.0.1->torchtext) (51.0.0)\n",
      "Requirement already satisfied: cmake in /home/jupyter/.local/lib/python3.8/site-packages (from triton==2.0.0->torch==2.0.1->torchtext) (3.26.3)\n",
      "Requirement already satisfied: lit in /home/jupyter/.local/lib/python3.8/site-packages (from triton==2.0.0->torch==2.0.1->torchtext) (16.0.3)\n",
      "Requirement already satisfied: pyyaml in /usr/local/lib/python3.8/dist-packages (from huggingface-hub) (5.3.1)\n",
      "Requirement already satisfied: packaging>=20.9 in /kernel/lib/python3.8/site-packages (from huggingface-hub) (20.9)\n",
      "Requirement already satisfied: sacremoses in /usr/local/lib/python3.8/dist-packages (from transformers) (0.0.46)\n",
      "Requirement already satisfied: regex!=2019.12.17 in /usr/local/lib/python3.8/dist-packages (from transformers) (2021.11.10)\n",
      "Requirement already satisfied: tokenizers<0.11,>=0.10.1 in /usr/local/lib/python3.8/dist-packages (from transformers) (0.10.3)\n",
      "Requirement already satisfied: pyparsing>=2.0.2 in /kernel/lib/python3.8/site-packages (from packaging>=20.9->huggingface-hub) (2.4.7)\n",
      "Requirement already satisfied: idna<4,>=2.5 in /kernel/lib/python3.8/site-packages (from requests->torchtext) (3.4)\n",
      "Requirement already satisfied: charset-normalizer<4,>=2 in /kernel/lib/python3.8/site-packages (from requests->torchtext) (3.1.0)\n",
      "Requirement already satisfied: certifi>=2017.4.17 in /kernel/lib/python3.8/site-packages (from requests->torchtext) (2022.12.7)\n",
      "Requirement already satisfied: click in /usr/local/lib/python3.8/dist-packages (from sacremoses->transformers) (8.0.3)\n",
      "Requirement already satisfied: six in /kernel/lib/python3.8/site-packages (from sacremoses->transformers) (1.16.0)\n",
      "Requirement already satisfied: joblib in /usr/local/lib/python3.8/dist-packages (from sacremoses->transformers) (1.1.0)\n",
      "Requirement already satisfied: MarkupSafe>=2.0 in /kernel/lib/python3.8/site-packages (from jinja2->torch==2.0.1->torchtext) (2.1.2)\n",
      "Requirement already satisfied: decorator>=4.3.0 in /kernel/lib/python3.8/site-packages (from networkx->torch==2.0.1->torchtext) (5.1.1)\n",
      "Requirement already satisfied: mpmath>=0.19 in /home/jupyter/.local/lib/python3.8/site-packages (from sympy->torch==2.0.1->torchtext) (1.3.0)\n",
      "Installing collected packages: sentencepiece\n",
      "Successfully installed sentencepiece-0.1.99\n",
      "\u001b[33mWARNING: You are using pip version 21.3.1; however, version 23.1.2 is available.\n",
      "You should consider upgrading via the '/usr/local/bin/python3 -m pip install --upgrade pip' command.\u001b[0m\n"
     ]
    }
   ],
   "source": [
    "# %pip install sentencepiece torchtext huggingface-hub transformers tokenizer"
   ]
  },
  {
   "cell_type": "code",
   "execution_count": 32,
   "id": "73302a08",
   "metadata": {
    "ExecuteTime": {
     "end_time": "2023-05-12T19:07:55.302043889Z",
     "start_time": "2023-05-12T19:07:55.298218824Z"
    },
    "cellId": "kwc443n3lfqj811ujeu8x",
    "collapsed": false,
    "jupyter": {
     "outputs_hidden": false
    }
   },
   "outputs": [],
   "source": [
    "#!g1.1\n",
    "# Кажется, у меня проблемы с драйверами для видеокарты, из-за чего обучение может в произвольный момент падать\n",
    "# Запрет асинхронных запусков ядра не решает проблему полностью, но заметно снижает вероятность её возникновения\n",
    "# import os\n",
    "# os.environ['CUDA_LAUNCH_BLOCKING']=\"1\""
   ]
  },
  {
   "cell_type": "code",
   "execution_count": 34,
   "id": "315090a8",
   "metadata": {
    "ExecuteTime": {
     "end_time": "2023-05-12T19:07:56.006818409Z",
     "start_time": "2023-05-12T19:07:55.302454224Z"
    },
    "cellId": "fv1w7dcd30bi0waph4pyr",
    "collapsed": false,
    "jupyter": {
     "outputs_hidden": false
    }
   },
   "outputs": [],
   "source": [
    "#!g1.1\n",
    "import torch\n",
    "import numpy as np\n",
    "\n",
    "if torch.cuda.is_available():\n",
    "    DEVICE = 'cuda'\n",
    "else:\n",
    "    DEVICE = 'cpu'"
   ]
  },
  {
   "cell_type": "code",
   "execution_count": 35,
   "id": "9d9f968d",
   "metadata": {
    "ExecuteTime": {
     "end_time": "2023-05-12T19:07:56.009481420Z",
     "start_time": "2023-05-12T19:07:56.008293261Z"
    },
    "cellId": "af5pbq8yscr0ax144se705",
    "collapsed": false,
    "jupyter": {
     "outputs_hidden": false
    }
   },
   "outputs": [],
   "source": [
    "#!g1.1\n",
    "def print_learning_parameters(data_config, model_config):\n",
    "    print(f\"Parameters of the model:\")\n",
    "    print(f\"* Learning rate is {model_config['learning_rate']}.\")\n",
    "    if 'div_factor' in model_config:\n",
    "        print(f\"* OneCycleLR with warm up and linear decrease of learning rate to division factor {model_config['div_factor']} is in use.\")\n",
    "    else:\n",
    "        print(\"* Adafactor with constant learning rate is in use.\")\n",
    "    print(f\"* Batch size is {data_config['batch_size']}.\")\n",
    "    if data_config['pretrained_input_tokenizer_name'] is not None:\n",
    "        print(f\"* The tokenizer for input values uses the pretrained vocabulary from '{data_config['pretrained_input_tokenizer_name']}'.\")\n",
    "    if data_config['pretrained_output_tokenizer_name'] is not None:\n",
    "        print(f\"* The tokenizer for output values uses the pretrained vocabulary from '{data_config['pretrained_output_tokenizer_name']}'.\")\n",
    "    print(f\"* The number of epochs is {model_config['epoch_num']}.\")\n",
    "    if \"pretrained_model_name\" in model_config:\n",
    "        print(f\"* Pretrained parameters from '{model_config['pretrained_model_name']}' is used.\")\n",
    "    if 'emb_size' in model_config:\n",
    "        print(f\"* The size of embeddings/hidden states is {model_config['emb_size']}.\")\n",
    "    if 'num_encoder_layers' in model_config and 'num_decoder_layers' in model_config:\n",
    "        print(f\"* The numbers of encoder and decoder layers are {model_config['num_encoder_layers']} and {model_config['num_decoder_layers']}.\")\n",
    "    if 'num_heads' in model_config:\n",
    "        print(f\"* There are {model_config['num_heads']} heads for self-attention and encoder-decoder attention\")"
   ]
  },
  {
   "cell_type": "code",
   "execution_count": 36,
   "id": "757129f9",
   "metadata": {
    "ExecuteTime": {
     "end_time": "2023-05-12T19:07:56.051737317Z",
     "start_time": "2023-05-12T19:07:56.010997870Z"
    },
    "cellId": "j8zhb2as5pgp4f9x8kysn",
    "collapsed": false,
    "jupyter": {
     "outputs_hidden": false
    }
   },
   "outputs": [],
   "source": [
    "#!g1.1\n",
    "import re\n",
    "import matplotlib.pylab as plt\n",
    "\n",
    "MATCH_REGEX = re.compile(r\"[+-]?\\b(\\d+([.]\\d*)?([eE][+-]?\\d+)?|[.]\\d+([eE][+-]?\\d+)?)\\b\")\n",
    "\n",
    "def extract_values(string):\n",
    "    result = dict()\n",
    "    params = ['val_loss', 'train_loss', 'bleu_score']\n",
    "    if \"train_loss\" in string:\n",
    "        found_vals = [re_match[0] for re_match in re.findall(MATCH_REGEX, string)]\n",
    "\n",
    "        if len(params) == len(found_vals):\n",
    "            for name, val in zip(params, found_vals):\n",
    "                result[name] = float(val)\n",
    "    return result\n",
    "\n",
    "def plot_results(train_loss_list, val_loss_list, val_bleu_list, run_name):\n",
    "    fig, (ax1, ax2) = plt.subplots(1, 2, figsize=(20, 5))\n",
    "\n",
    "    ax1.plot(range(len(train_loss_list)), train_loss_list, label='train loss')\n",
    "    ax1.plot(range(len(val_loss_list)), val_loss_list, label='val loss')\n",
    "    ax1.set_xlabel('epoch')\n",
    "    ax1.set_ylabel('loss')\n",
    "    ax1.legend()\n",
    "\n",
    "    ax2.plot(range(len(val_bleu_list)), val_bleu_list, label='val bleu')\n",
    "    ax2.set_xlabel('epoch')\n",
    "    ax2.set_ylabel('BLEU')\n",
    "    ax2.legend()\n",
    "\n",
    "    fig.suptitle(run_name, fontsize=20)\n",
    "    plt.show()"
   ]
  },
  {
   "cell_type": "code",
   "execution_count": 7,
   "id": "aa44910d",
   "metadata": {
    "ExecuteTime": {
     "end_time": "2023-05-12T19:07:56.088079675Z",
     "start_time": "2023-05-12T19:07:56.052112915Z"
    },
    "cellId": "ifkinndplqgbsk349j9o48",
    "collapsed": false,
    "jupyter": {
     "outputs_hidden": false
    }
   },
   "outputs": [],
   "source": [
    "#!g1.1\n",
    "def print_demo_translations(model, val_dataloader, input_tokenizer, sentence_num=10):\n",
    "    input_tensor, target_tensor = val_dataloader.__iter__().__next__()\n",
    "    input_tensor = input_tensor[:sentence_num]\n",
    "    target_tensor = target_tensor[:sentence_num]\n",
    "    with torch.no_grad():\n",
    "        predicted_samples, _ = model.forward(input_tensor)\n",
    "    bleu_score, actual_sentences, predicted_sentences = model.eval_bleu(predicted_samples, target_tensor)\n",
    "    print(f'BLEU score on the following sentences is {bleu_score}.')\n",
    "    print(\"* Original sentence\\t| True translation\\t| Predicted translation\")\n",
    "    for in_tens, actual, pred in zip(input_tensor, actual_sentences, predicted_sentences):\n",
    "        print(f\"* {' '.join(input_tokenizer.decode(in_tens.tolist()))}\\t| {actual}\\t| {pred}\")\n",
    "    print('##############################')"
   ]
  },
  {
   "cell_type": "code",
   "execution_count": 37,
   "id": "9e0a12f6",
   "metadata": {
    "cellId": "40sx9hyg6ny1o18vnjved6i"
   },
   "outputs": [],
   "source": [
    "#!g1.1\n",
    "import sys  \n",
    "sys.path.insert(1, \"./src\")"
   ]
  },
  {
   "cell_type": "markdown",
   "id": "87b2a828",
   "metadata": {
    "cellId": "2atnm6qqfmf1jmed13aucm",
    "execution_id": "143ed990-7e6e-45b4-88e2-48597e2e60e5",
    "tags": []
   },
   "source": [
    "### Обучение Seq2seq Transformer модель(25 баллов)\n",
    "\n",
    "Реализуйте Seq2seq Transformer. В качестве блока трансформера можно использовать https://pytorch.org/docs/stable/generated/torch.nn.Transformer.html. В качестве токенизатора воспользуйтесь HuggingFace токенизатор для source/target языков - https://huggingface.co/docs/transformers/fast_tokenizers\n",
    "В качестве максимальной длинны возьмите предложения длинной **до 15 слов**, без каких либо префиксов. \n",
    "\n",
    "Не забудьте остальные элементы модели:\n",
    "* Мы можем использовать 1 трансформер как энкодер - декодером будет выступать линейный слой. \n",
    "* Обучите свой BPE токенизатор - https://huggingface.co/docs/transformers/fast_tokenizers\n",
    "* Матрицу эмбеддингов токенов\n",
    "* Матрицу позиционных эмбеддингов\n",
    "* Линейный слой проекции в target словарь\n",
    "* Функцию маскирования будущих состояний attention, так как модель авто-регрессионна\n",
    "* Learning rate scheduler\n",
    "\n",
    "\n",
    "В качестве результатов, приложите следующие данные:\n",
    "1) Параметры обучения - learning rate, batch_size, epoch_num, размерность скрытого слоя, количество слоев\n",
    "2) Графики обучения - train loss, val loss, bleu score\n",
    "3) Примеры переводов вашей модели(10 штук) - source text, true target text, predicted target text"
   ]
  },
  {
   "cell_type": "code",
   "execution_count": 38,
   "id": "2e7cf57b",
   "metadata": {
    "ExecuteTime": {
     "end_time": "2023-05-12T19:07:56.264799322Z",
     "start_time": "2023-05-12T19:07:56.076891617Z"
    },
    "cellId": "uihj1hloyob7jbg69rs36e",
    "collapsed": false,
    "jupyter": {
     "outputs_hidden": false
    }
   },
   "outputs": [],
   "source": [
    "#!g1.1\n",
    "import yaml\n",
    "from models import trainer\n",
    "from data.datamodule import DataManager\n",
    "from txt_logger import TXTLogger\n",
    "from models.seq2seq_transformer import Seq2SeqTransformer\n",
    "from models.seq2seq_t5 import Seq2SeqT5"
   ]
  },
  {
   "cell_type": "markdown",
   "id": "3ee6ba60",
   "metadata": {
    "cellId": "ciq4za3olep4plm5p261m",
    "execution_id": "8f9c0996-9be6-4646-81e0-700d92b10a94"
   },
   "source": [
    "### Конфигурация модели и алгоритма обучения"
   ]
  },
  {
   "cell_type": "code",
   "execution_count": 10,
   "id": "6fe43bc4",
   "metadata": {
    "ExecuteTime": {
     "end_time": "2023-05-12T19:07:56.305732206Z",
     "start_time": "2023-05-12T19:07:56.305448961Z"
    },
    "cellId": "qrakqoe7fq1c8kpr6ou81",
    "collapsed": false,
    "jupyter": {
     "outputs_hidden": false
    }
   },
   "outputs": [
    {
     "name": "stdout",
     "output_type": "stream",
     "text": [
      "Parameters of the model:\n",
      "* Learning rate is 0.0001.\n",
      "* OneCycleLR with warm up and linear decrease of learning rate to division factor 10000 is in use.\n",
      "* Batch size is 256.\n",
      "* The number of epochs is 5.\n",
      "* The size of embeddings/hidden states is 510.\n",
      "* The numbers of encoder and decoder layers are 4 and 4.\n",
      "* There are 6 heads for self-attention and encoder-decoder attention\n"
     ]
    }
   ],
   "source": [
    "#!g1.1\n",
    "transformer_data_config = yaml.load(open(\"configs/data_config.yaml\", 'r'),   Loader=yaml.Loader)\n",
    "transformer_model_config = yaml.load(open(\"configs/transformer_config.yaml\", 'r'),   Loader=yaml.Loader)\n",
    "print_learning_parameters(transformer_data_config, transformer_model_config)"
   ]
  },
  {
   "cell_type": "markdown",
   "id": "f25f5172",
   "metadata": {
    "cellId": "xutin0dssn8ea4rueqedub",
    "execution_id": "05fdeafe-ec87-4527-a054-faa333fd792b"
   },
   "source": [
    "### Обучение модели"
   ]
  },
  {
   "cell_type": "code",
   "execution_count": 11,
   "id": "db917b67",
   "metadata": {
    "ExecuteTime": {
     "end_time": "2023-05-12T19:08:35.074195107Z",
     "start_time": "2023-05-12T19:07:56.305860781Z"
    },
    "cellId": "yd724c8xetvmi99yfl21",
    "tags": []
   },
   "outputs": [
    {
     "name": "stderr",
     "output_type": "stream",
     "text": [
      "Reading from file: 100%|██████████| 467119/467119 [00:09<00:00, 51122.43it/s]\n"
     ]
    },
    {
     "name": "stdout",
     "output_type": "stream",
     "text": [
      "\n",
      "\n",
      "\n",
      "\n",
      "\n",
      "\n"
     ]
    },
    {
     "data": {
      "application/vnd.jupyter.widget-view+json": {
       "model_id": "e36a95c970264c17b8e9d0f94ff59090",
       "version_major": 2,
       "version_minor": 0
      },
      "text/plain": [
       "HBox(children=(HTML(value=''), FloatProgress(value=0.0, max=5.0), HTML(value='')))"
      ]
     },
     "metadata": {},
     "output_type": "display_data"
    },
    {
     "data": {
      "application/vnd.jupyter.widget-view+json": {
       "model_id": "f2a619b7172347fabc9158da200a5ae4",
       "version_major": 2,
       "version_minor": 0
      },
      "text/plain": [
       "HBox(children=(HTML(value=''), FloatProgress(value=0.0, max=961.0), HTML(value='')))"
      ]
     },
     "metadata": {},
     "output_type": "display_data"
    },
    {
     "data": {
      "application/vnd.jupyter.widget-view+json": {
       "model_id": "8e4d70b3101f4b5d88c023e9c1954c41",
       "version_major": 2,
       "version_minor": 0
      },
      "text/plain": [
       "HBox(children=(HTML(value=''), FloatProgress(value=0.0, max=240.0), HTML(value='')))"
      ]
     },
     "metadata": {},
     "output_type": "display_data"
    },
    {
     "name": "stdout",
     "output_type": "stream",
     "text": [
      "Current BLEU:  0.014843137352727354\n",
      "думаю нам следует сосредоточиться на другом ---> думаю мы мы нас на на на\n",
      "развитые страны должны помогать развивающимся странам ---> она бы должны должны должны бы не не\n",
      "не думаю что том знает насколько мэри богата ---> не думаю что том знает что мэри мэри мэри мэри\n",
      "мы с томом оба неплохо играем в шахматы ---> мы с с с и и и и и и\n",
      "достижения тома говорят сами за себя ---> у тома тома на на на\n",
      "##############################\n"
     ]
    },
    {
     "data": {
      "application/vnd.jupyter.widget-view+json": {
       "model_id": "d7331cca81344e048730773c6b262258",
       "version_major": 2,
       "version_minor": 0
      },
      "text/plain": [
       "HBox(children=(HTML(value=''), FloatProgress(value=0.0, max=961.0), HTML(value='')))"
      ]
     },
     "metadata": {},
     "output_type": "display_data"
    },
    {
     "data": {
      "application/vnd.jupyter.widget-view+json": {
       "model_id": "bbffc67d07984ddebb000673516601cd",
       "version_major": 2,
       "version_minor": 0
      },
      "text/plain": [
       "HBox(children=(HTML(value=''), FloatProgress(value=0.0, max=240.0), HTML(value='')))"
      ]
     },
     "metadata": {},
     "output_type": "display_data"
    },
    {
     "name": "stdout",
     "output_type": "stream",
     "text": [
      "Current BLEU:  0.04792803057094453\n",
      "не думаю что у тома есть права ---> не думаю что у тома есть есть\n",
      "сколько денег ты вчера потратил ---> сколько денег ты ты вчера\n",
      "хорошо что с нами этого не случилось ---> это это что не не\n",
      "я тут тебе кое что купил ---> это немного немного что что для для\n",
      "том подошёл к тому месту где стояла мэри ---> том пошёл куда где мэри мэри\n",
      "##############################\n"
     ]
    },
    {
     "data": {
      "application/vnd.jupyter.widget-view+json": {
       "model_id": "e3295bd8db364778ad81577679ca0329",
       "version_major": 2,
       "version_minor": 0
      },
      "text/plain": [
       "HBox(children=(HTML(value=''), FloatProgress(value=0.0, max=961.0), HTML(value='')))"
      ]
     },
     "metadata": {},
     "output_type": "display_data"
    },
    {
     "data": {
      "application/vnd.jupyter.widget-view+json": {
       "model_id": "33d42bae97b048dca43ad899b619cb92",
       "version_major": 2,
       "version_minor": 0
      },
      "text/plain": [
       "HBox(children=(HTML(value=''), FloatProgress(value=0.0, max=240.0), HTML(value='')))"
      ]
     },
     "metadata": {},
     "output_type": "display_data"
    },
    {
     "name": "stdout",
     "output_type": "stream",
     "text": [
      "Current BLEU:  0.058118366604211685\n",
      "я вижу тома всякий раз когда он приезжает в бостон ---> я вижу тома тома раз он в бостон бостон бостон\n",
      "многие молодые люди больше не слушают радио ---> многие людей больше не не не\n",
      "я не знал точно на какой поезд садиться ---> я не знал что на на на на\n",
      "тому хотелось пить и он попросил воды ---> том был пить и и воды воды воды\n",
      "ты помнишь какие уроки у нас были в понедельник ---> ты помнишь что что мы мы в понедельник\n",
      "##############################\n"
     ]
    },
    {
     "data": {
      "application/vnd.jupyter.widget-view+json": {
       "model_id": "32d03923237843a4a3da8b94af6a7cd3",
       "version_major": 2,
       "version_minor": 0
      },
      "text/plain": [
       "HBox(children=(HTML(value=''), FloatProgress(value=0.0, max=961.0), HTML(value='')))"
      ]
     },
     "metadata": {},
     "output_type": "display_data"
    },
    {
     "data": {
      "application/vnd.jupyter.widget-view+json": {
       "model_id": "ebe46a53f3f046699bae0d4066fca9b3",
       "version_major": 2,
       "version_minor": 0
      },
      "text/plain": [
       "HBox(children=(HTML(value=''), FloatProgress(value=0.0, max=240.0), HTML(value='')))"
      ]
     },
     "metadata": {},
     "output_type": "display_data"
    },
    {
     "name": "stdout",
     "output_type": "stream",
     "text": [
      "Current BLEU:  0.06061710773151908\n",
      "том оторвал половые доски лапчатым ломом ---> том спрятался с в\n",
      "том растянулся на диване и уснул ---> том вышел на и и и\n",
      "том бы помог тебе если бы ты попросил ---> том бы бы бы если если ли его его\n",
      "ты мог мне сказать я бы понял ---> ты мог бы бы мне мне что я\n",
      "том хотел поговорить с мэри лицом к лицу ---> том хотел поговорить с с с мэри\n",
      "##############################\n"
     ]
    },
    {
     "data": {
      "application/vnd.jupyter.widget-view+json": {
       "model_id": "3dfb671494fb474796ee7318cd7e356e",
       "version_major": 2,
       "version_minor": 0
      },
      "text/plain": [
       "HBox(children=(HTML(value=''), FloatProgress(value=0.0, max=961.0), HTML(value='')))"
      ]
     },
     "metadata": {},
     "output_type": "display_data"
    },
    {
     "data": {
      "application/vnd.jupyter.widget-view+json": {
       "model_id": "f13b3bf4f50e486680760f66b0a428df",
       "version_major": 2,
       "version_minor": 0
      },
      "text/plain": [
       "HBox(children=(HTML(value=''), FloatProgress(value=0.0, max=240.0), HTML(value='')))"
      ]
     },
     "metadata": {},
     "output_type": "display_data"
    },
    {
     "name": "stdout",
     "output_type": "stream",
     "text": [
      "Current BLEU:  0.062108134950488426\n",
      "не знаю такая ли уж это хорошая идея ---> я не знаю ли ли это идея идея\n",
      "надеюсь ты не поймёшь это неправильно ---> надеюсь ты не не не так так\n",
      "я возвращаюсь к своей бывшей ---> я начинаю вместе с с с\n",
      "прибейте объявление к стволу этого дерева ---> мост заметил на на на на\n",
      "мой сосед вызвал пожарных ---> мой мою вызвал огонь огонь\n",
      "##############################\n",
      "Last 4 epoch train loss:  0.9829304785807845\n",
      "Last 4 epoch val loss:  2.3438950747251512\n",
      "Last 4 epoch val bleu:  0.062108134950488426\n"
     ]
    }
   ],
   "source": [
    "#!g1.1\n",
    "tran_dm = DataManager(transformer_data_config, DEVICE)\n",
    "tran_train_dataloader, tran_val_dataloader = tran_dm.prepare_data()\n",
    "\n",
    "transformer = Seq2SeqTransformer(\n",
    "    device=DEVICE,\n",
    "    encoder_vocab_size=len(tran_dm.source_tokenizer.index2word),\n",
    "    decoder_vocab_size=len(tran_dm.target_tokenizer.index2word),\n",
    "    target_tokenizer=tran_dm.target_tokenizer,\n",
    "    start_symbol=tran_dm.target_tokenizer.sos_token,\n",
    "    lr=transformer_model_config['learning_rate'],\n",
    "    total_steps=transformer_model_config['epoch_num']*len(tran_train_dataloader),\n",
    "    emb_size=transformer_model_config['emb_size'],\n",
    "    num_heads=transformer_model_config['num_heads'],\n",
    "    num_encoder_layers=transformer_model_config['num_encoder_layers'],\n",
    "    num_decoder_layers=transformer_model_config['num_decoder_layers'],\n",
    "    dropout=transformer_model_config['dropout'],\n",
    "    div_factor=transformer_model_config['div_factor']\n",
    ")\n",
    "\n",
    "tran_logger = TXTLogger(transformer_model_config['path_to_log'])\n",
    "tran_trainer_cls = trainer.Trainer(model=transformer, model_config=transformer_model_config, logger=tran_logger)\n",
    "\n",
    "if transformer_model_config['try_one_batch']:\n",
    "    tran_train_dataloader = [list(tran_train_dataloader)[0]]\n",
    "    tran_val_dataloader = [list(tran_val_dataloader)[0]]\n",
    "\n",
    "tran_trainer_cls.train(tran_train_dataloader, tran_val_dataloader)"
   ]
  },
  {
   "cell_type": "code",
   "execution_count": 12,
   "id": "d56ad76b",
   "metadata": {
    "cellId": "juvlvlakysjgkz8qk8jn",
    "collapsed": false,
    "jupyter": {
     "outputs_hidden": false
    }
   },
   "outputs": [],
   "source": [
    "#!g1.1\n",
    "import os\n",
    "file_content = open(os.path.join(transformer_model_config['path_to_log'], \"progress_log.txt\"), 'r').read().split(\"\\n\")\n",
    "tran_train_loss_list, tran_val_loss_list, tran_val_bleu_list = [], [], []\n",
    "for line in file_content:\n",
    "    d = extract_values(line)\n",
    "    if len(d) > 0:\n",
    "        tran_train_loss_list.append(d['train_loss'])\n",
    "        tran_val_loss_list.append(d['val_loss'])\n",
    "        tran_val_bleu_list.append(d['bleu_score'])"
   ]
  },
  {
   "cell_type": "code",
   "execution_count": 13,
   "id": "773689fe",
   "metadata": {
    "cellId": "8l3pvcd1c57a82t12q29a6",
    "collapsed": false,
    "jupyter": {
     "outputs_hidden": false
    }
   },
   "outputs": [
    {
     "data": {
      "image/png": "[encoded data removed]",
      "text/plain": [
       "<Figure size 1440x360 with 2 Axes>"
      ]
     },
     "metadata": {
      "needs_background": "light"
     },
     "output_type": "display_data"
    }
   ],
   "source": [
    "#!g1.1\n",
    "plot_results(tran_train_loss_list, tran_val_loss_list, tran_val_bleu_list, run_name='Transformer training')"
   ]
  },
  {
   "cell_type": "markdown",
   "id": "5dea4452",
   "metadata": {
    "cellId": "ykb7y23qhh9jd43r5ewo9",
    "execution_id": "5840a388-2647-4fe2-84f9-ccafc9f9dc81"
   },
   "source": [
    "### Итоговое качество модели/примеры переводов"
   ]
  },
  {
   "cell_type": "code",
   "execution_count": 14,
   "id": "912a3412",
   "metadata": {
    "cellId": "s3wlf47tu3lga7kvh570el",
    "collapsed": false,
    "jupyter": {
     "outputs_hidden": false
    }
   },
   "outputs": [
    {
     "name": "stdout",
     "output_type": "stream",
     "text": [
      "Final BLUE score is 0.062108134950488426.\n",
      "The best BLUE score is 0.062108134950488426 on 5 step.\n"
     ]
    }
   ],
   "source": [
    "#!g1.1\n",
    "print(f\"Final BLUE score is {tran_val_bleu_list[-1]}.\")\n",
    "print(f\"The best BLUE score is {max(tran_val_bleu_list)} on {np.argmax(tran_val_bleu_list) + 1} step.\")"
   ]
  },
  {
   "cell_type": "code",
   "execution_count": 15,
   "id": "29bccab4",
   "metadata": {
    "cellId": "l59ne6onqvapcy3y0we86",
    "collapsed": false,
    "jupyter": {
     "outputs_hidden": false
    }
   },
   "outputs": [
    {
     "name": "stdout",
     "output_type": "stream",
     "text": [
      "BLEU score on the following sentences is 0.08408964276313782.\n",
      "* Original sentence\t| True translation\t| Predicted translation\n",
      "* didn t you know that i was from boston\t| ты не знал что я из бостона\t| ты не знал что я из бостона бостона\n",
      "* the minister approved the building plans\t| министр одобрил планы строительства\t| погода несколько здание здание здание\n",
      "* are your parents still living in boston\t| твои родители ещё живут в бостоне\t| твои родители ещё ещё в в бостоне\n",
      "* those kinds of things often take a lot of time\t| подобные вещи часто занимают много времени\t| эти много часто много много времени времени времени времени\n",
      "* we bought our plane tickets two months in advance\t| мы купили билеты на самолёт за два месяца до вылета\t| мы купили наши в два два два два две\n",
      "* we ordered pink but we received blue\t| мы заказали розовый а получили синий\t| мы заказал мы но но мы мы\n",
      "* tom saw that mary wasn t happy and went over to cheer\t| том видел что мэри расстроена и подошел ее приободрить\t| том видел мэри мэри не и и и и и и\n",
      "* do you have any difficulty falling asleep\t| у вас есть трудности с засыпанием\t| у вас есть какие\n",
      "* don t worry i ve done this a thousand times\t| не беспокойся я тысячу раз это делал\t| не беспокойся я это это раз раз\n",
      "* both drinking and smoking are bad for your health\t| и пить и курить вредно для здоровья\t| оба и и курить курить\n",
      "##############################\n"
     ]
    }
   ],
   "source": [
    "#!g1.1\n",
    "print_demo_translations(transformer, tran_val_dataloader, tran_dm.source_tokenizer)"
   ]
  },
  {
   "cell_type": "markdown",
   "id": "11c521bf",
   "metadata": {
    "cellId": "v7qy477nhhm4lrblyfsamy",
    "execution_id": "b11fc64e-1f5e-4d6f-baf8-48fd9f5bfad2"
   },
   "source": [
    "### Fine-tune pretrained T5 (25 баллов)\n",
    "\n",
    "Реализуйте Seq2seq Pretrained T5. Воспользуйтесь https://huggingface.co/docs/transformers/model_doc/t5 предобученной моделью. В качестве максимальной длинны возьмите предложения длинной **до 15 слов**, без каких либо префиксов. Архитектура модели(количество слоев, размерность и тд) остается на ваш выбор.\n",
    "\n",
    "Не забудьте важные аспекты обучения модели:\n",
    "* Взять готовый t5 токенизатор\n",
    "* Resize matrix embedding - скорей всего ваша матрица эмбеддингов не будет включать эмбеддинги из вашего сета. Пример обновления матрицы эмбеддингов тут тут https://github.com/runnerup96/Transformers-Tuning/blob/main/t5_encoder_decoder.py\n",
    "* Learning rate scheduler/Adafactor with constant learning rate\n",
    "\n",
    "\n",
    "В качестве результатов, приложите следующие данные:\n",
    "1) Параметры обучения - learning rate, batch_size, epoch_num, pretrained model name\n",
    "2) Графики обучения - train loss, val loss, bleu score\n",
    "3) Примеры переводов вашей модели(10 штук) - source text, true target text, predicted target text"
   ]
  },
  {
   "cell_type": "markdown",
   "id": "e16644b9",
   "metadata": {
    "cellId": "p9fw0n7jissdphij69u2g",
    "execution_id": "34ac672e-c559-41d0-9d00-3c0cac9e33df"
   },
   "source": [
    "### Конфигурация модели и алгоритма обучения"
   ]
  },
  {
   "cell_type": "code",
   "execution_count": 46,
   "id": "5e2d8946",
   "metadata": {
    "ExecuteTime": {
     "end_time": "2023-05-12T19:07:56.305732206Z",
     "start_time": "2023-05-12T19:07:56.305448961Z"
    },
    "cellId": "te5044sjz6o5qmfjns6ze2",
    "collapsed": false,
    "jupyter": {
     "outputs_hidden": false
    }
   },
   "outputs": [
    {
     "name": "stdout",
     "output_type": "stream",
     "text": [
      "Parameters of the model:\n",
      "* Learning rate is 0.001.\n",
      "* Adafactor with constant learning rate is in use.\n",
      "* Batch size is 256.\n",
      "* The tokenizer for input values uses the pretrained vocabulary from 'google/t5-efficient-mini'.\n",
      "* The tokenizer for output values uses the pretrained vocabulary from 'ai-forever/ruT5-base'.\n",
      "* The number of epochs is 5.\n",
      "* Pretrained parameters from 'google/t5-efficient-mini' is used.\n"
     ]
    }
   ],
   "source": [
    "#!g1.1\n",
    "t5_data_config = yaml.load(open(\"configs/data_t5_config.yaml\", 'r'),   Loader=yaml.Loader)\n",
    "t5_model_config = yaml.load(open(\"configs/model_t5_config.yaml\", 'r'),   Loader=yaml.Loader)\n",
    "print_learning_parameters(t5_data_config, t5_model_config)"
   ]
  },
  {
   "cell_type": "markdown",
   "id": "0ea9a826",
   "metadata": {
    "cellId": "6pcnk32x968zlhve8d7v3",
    "execution_id": "09ad06ed-f331-461f-ac38-07b75047d371"
   },
   "source": [
    "### Обучение модели"
   ]
  },
  {
   "cell_type": "code",
   "execution_count": 47,
   "id": "98da99ec",
   "metadata": {
    "ExecuteTime": {
     "end_time": "2023-05-12T19:08:35.074195107Z",
     "start_time": "2023-05-12T19:07:56.305860781Z"
    },
    "cellId": "ant5581t0v4mp5vw0td0je",
    "tags": []
   },
   "outputs": [
    {
     "name": "stderr",
     "output_type": "stream",
     "text": [
      "Reading from file: 100%|██████████| 467119/467119 [00:09<00:00, 50751.36it/s]\n"
     ]
    },
    {
     "data": {
      "application/vnd.jupyter.widget-view+json": {
       "model_id": "1dd8215c77624cd1bffca72101148249",
       "version_major": 2,
       "version_minor": 0
      },
      "text/plain": [
       "HBox(children=(HTML(value=''), FloatProgress(value=0.0, max=5.0), HTML(value='')))"
      ]
     },
     "metadata": {},
     "output_type": "display_data"
    },
    {
     "data": {
      "application/vnd.jupyter.widget-view+json": {
       "model_id": "e60fdc7e747b436f953971a066086d10",
       "version_major": 2,
       "version_minor": 0
      },
      "text/plain": [
       "HBox(children=(HTML(value=''), FloatProgress(value=0.0, max=961.0), HTML(value='')))"
      ]
     },
     "metadata": {},
     "output_type": "display_data"
    },
    {
     "data": {
      "application/vnd.jupyter.widget-view+json": {
       "model_id": "ad1220427f894e11a0b52b03ce9487e4",
       "version_major": 2,
       "version_minor": 0
      },
      "text/plain": [
       "HBox(children=(HTML(value=''), FloatProgress(value=0.0, max=240.0), HTML(value='')))"
      ]
     },
     "metadata": {},
     "output_type": "display_data"
    },
    {
     "name": "stdout",
     "output_type": "stream",
     "text": [
      "Current BLEU:  0.0\n",
      "не может себе сейчас позволить покупку машины ---> \n",
      "заказал два чая и три кофе ---> \n",
      "спас своего друга ценой собственной жизни ---> \n",
      "ничего не видит без очков ---> \n",
      "не мог заставить себя застрелить оленя ---> \n",
      "##############################\n"
     ]
    },
    {
     "data": {
      "application/vnd.jupyter.widget-view+json": {
       "model_id": "b67a09205b2a4323b71c401d74de4ac8",
       "version_major": 2,
       "version_minor": 0
      },
      "text/plain": [
       "HBox(children=(HTML(value=''), FloatProgress(value=0.0, max=961.0), HTML(value='')))"
      ]
     },
     "metadata": {},
     "output_type": "display_data"
    },
    {
     "data": {
      "application/vnd.jupyter.widget-view+json": {
       "model_id": "cd784d9d7527401ab0a2ac909692850f",
       "version_major": 2,
       "version_minor": 0
      },
      "text/plain": [
       "HBox(children=(HTML(value=''), FloatProgress(value=0.0, max=240.0), HTML(value='')))"
      ]
     },
     "metadata": {},
     "output_type": "display_data"
    },
    {
     "name": "stdout",
     "output_type": "stream",
     "text": [
      "Current BLEU:  0.0\n",
      "пойдёт дождь нам бы лучше взять зонтик ---> \n",
      "хочет стать синхронным переводчиком ---> \n",
      "подобное могло разрушить вам карьеру ---> \n",
      "никогда никуда не ходит без своей собаки ---> \n",
      "последний раз говорю тебе чтобы ты это сделал ---> \n",
      "##############################\n"
     ]
    },
    {
     "data": {
      "application/vnd.jupyter.widget-view+json": {
       "model_id": "ba75ffe024e1437aaf629218a0691d66",
       "version_major": 2,
       "version_minor": 0
      },
      "text/plain": [
       "HBox(children=(HTML(value=''), FloatProgress(value=0.0, max=961.0), HTML(value='')))"
      ]
     },
     "metadata": {},
     "output_type": "display_data"
    },
    {
     "data": {
      "application/vnd.jupyter.widget-view+json": {
       "model_id": "28a45211f01a4d9bab2b44a4d5f344c3",
       "version_major": 2,
       "version_minor": 0
      },
      "text/plain": [
       "HBox(children=(HTML(value=''), FloatProgress(value=0.0, max=240.0), HTML(value='')))"
      ]
     },
     "metadata": {},
     "output_type": "display_data"
    },
    {
     "name": "stdout",
     "output_type": "stream",
     "text": [
      "Current BLEU:  0.0\n",
      "постоянно путаю эти два слова ---> в в в в в\n",
      "сказал мне что будет здесь около половины третьего ---> что что что что\n",
      "строят длинный мост через канал ---> в в в в\n",
      "том сможет завтра помочь мэри ---> что том мэр мэр мэри\n",
      "сожалению у меня нет сейчас с собой денег ---> не не не не я\n",
      "##############################\n"
     ]
    },
    {
     "data": {
      "application/vnd.jupyter.widget-view+json": {
       "model_id": "219a330b8ae94975b1764d850c889d58",
       "version_major": 2,
       "version_minor": 0
      },
      "text/plain": [
       "HBox(children=(HTML(value=''), FloatProgress(value=0.0, max=961.0), HTML(value='')))"
      ]
     },
     "metadata": {},
     "output_type": "display_data"
    },
    {
     "data": {
      "application/vnd.jupyter.widget-view+json": {
       "model_id": "4d8d6056c7df4157a59d72efea9af576",
       "version_major": 2,
       "version_minor": 0
      },
      "text/plain": [
       "HBox(children=(HTML(value=''), FloatProgress(value=0.0, max=240.0), HTML(value='')))"
      ]
     },
     "metadata": {},
     "output_type": "display_data"
    },
    {
     "name": "stdout",
     "output_type": "stream",
     "text": [
      "Current BLEU:  0.0\n",
      "меня нет другого выбора кроме как сделать то о чём меня попросил том ---> меня не с что что том том том тому\n",
      "сёстры все старше тебя ---> все на на на\n",
      "потребовалось всего пятнадцать минут чтобы закончить работу ---> очень нас мы нас в\n",
      "покрасили стены в белый цвет чтобы комната казалась светлее ---> в в в в на\n",
      "не уверен нравится ли мне это или то ---> не что что это это это это это\n",
      "##############################\n"
     ]
    },
    {
     "data": {
      "application/vnd.jupyter.widget-view+json": {
       "model_id": "4704ed1efa50444fb80077e2454749bd",
       "version_major": 2,
       "version_minor": 0
      },
      "text/plain": [
       "HBox(children=(HTML(value=''), FloatProgress(value=0.0, max=961.0), HTML(value='')))"
      ]
     },
     "metadata": {},
     "output_type": "display_data"
    },
    {
     "data": {
      "application/vnd.jupyter.widget-view+json": {
       "model_id": "1b87988c0e004afe92928324e51d066b",
       "version_major": 2,
       "version_minor": 0
      },
      "text/plain": [
       "HBox(children=(HTML(value=''), FloatProgress(value=0.0, max=240.0), HTML(value='')))"
      ]
     },
     "metadata": {},
     "output_type": "display_data"
    },
    {
     "name": "stdout",
     "output_type": "stream",
     "text": [
      "Current BLEU:  0.020077921746769943\n",
      "не знал что ты хочешь на меня работать ---> не знал что ты меня меня\n",
      "него привычка оставлять дверь открытой ---> он есть есть\n",
      "убеждён что том не сделал ничего плохого ---> что что что что не не не\n",
      "тебя в детстве была любимая книга ---> тебя есть сколько сколько\n",
      "сказал мне что он женат на канадке ---> сказал мне что онаааа\n",
      "##############################\n",
      "Last 4 epoch train loss:  1.5333440656096333\n",
      "Last 4 epoch val loss:  2.7124209423859913\n",
      "Last 4 epoch val bleu:  0.020077921746769943\n"
     ]
    }
   ],
   "source": [
    "#!g1.1\n",
    "t5_dm = DataManager(t5_data_config, DEVICE)\n",
    "t5_train_dataloader, t5_val_dataloader = t5_dm.prepare_data()\n",
    "\n",
    "t5_model = Seq2SeqT5(\n",
    "    device=DEVICE,\n",
    "    pretrained_name=t5_model_config['pretrained_model_name'],\n",
    "    encoder_vocab_size=len(t5_dm.source_tokenizer.index2word),\n",
    "    decoder_vocab_size=len(t5_dm.target_tokenizer.index2word),\n",
    "    target_tokenizer=t5_dm.target_tokenizer,\n",
    "    start_symbol=t5_dm.target_tokenizer.pad_token,\n",
    "    lr=t5_model_config['learning_rate'],\n",
    "    are_source_target_tokenizers_same=t5_model_config['are_source_target_tokenizers_same']\n",
    ")\n",
    "\n",
    "t5_logger = TXTLogger(t5_model_config['path_to_log'])\n",
    "t5_trainer_cls = trainer.Trainer(model=t5_model, model_config=t5_model_config, logger=t5_logger)\n",
    "\n",
    "if t5_model_config['try_one_batch']:\n",
    "    train_dataloader = [list(t5_train_dataloader)[0]]\n",
    "    tran_val_dataloader = [list(t5_val_dataloader)[0]]\n",
    "\n",
    "t5_trainer_cls.train(t5_train_dataloader, t5_val_dataloader)"
   ]
  },
  {
   "cell_type": "code",
   "execution_count": 48,
   "id": "e01e3ed7",
   "metadata": {
    "cellId": "xe1wa3p71yizwtfad3kfm",
    "collapsed": false,
    "jupyter": {
     "outputs_hidden": false
    }
   },
   "outputs": [],
   "source": [
    "#!g1.1\n",
    "file_content = open(os.path.join(t5_model_config['path_to_log'], \"progress_log.txt\"), 'r').read().split(\"\\n\")\n",
    "t5_train_loss_list, t5_val_loss_list, t5_val_bleu_list = [], [], []\n",
    "for line in file_content:\n",
    "    d = extract_values(line)\n",
    "    if len(d) > 0:\n",
    "        t5_train_loss_list.append(d['train_loss'])\n",
    "        t5_val_loss_list.append(d['val_loss'])\n",
    "        t5_val_bleu_list.append(d['bleu_score'])"
   ]
  },
  {
   "cell_type": "code",
   "execution_count": 49,
   "id": "f4881b41",
   "metadata": {
    "cellId": "g4e0nalw5ib83yn3z3yawo",
    "collapsed": false,
    "jupyter": {
     "outputs_hidden": false
    }
   },
   "outputs": [
    {
     "data": {
      "image/png": "[encoded data removed]",
      "text/plain": [
       "<Figure size 1440x360 with 2 Axes>"
      ]
     },
     "metadata": {
      "needs_background": "light"
     },
     "output_type": "display_data"
    }
   ],
   "source": [
    "#!g1.1\n",
    "plot_results(t5_train_loss_list, t5_val_loss_list, t5_val_bleu_list, run_name='Transformer training')"
   ]
  },
  {
   "cell_type": "markdown",
   "id": "76a46602",
   "metadata": {
    "cellId": "ob2qwkwcn6mwmcm57095q",
    "execution_id": "2538e0d8-a375-4975-a11c-6bc7d6c7b503"
   },
   "source": [
    "### Итоговое качество модели/примеры переводов"
   ]
  },
  {
   "cell_type": "code",
   "execution_count": 50,
   "id": "4c8399f2",
   "metadata": {
    "cellId": "j3n620ew4pwm1nosjzt2g",
    "collapsed": false,
    "jupyter": {
     "outputs_hidden": false
    }
   },
   "outputs": [
    {
     "name": "stdout",
     "output_type": "stream",
     "text": [
      "Final BLUE score is 0.020077921746769943.\n",
      "The best BLUE score is 0.020077921746769943 on 5 step.\n"
     ]
    }
   ],
   "source": [
    "#!g1.1\n",
    "print(f\"Final BLUE score is {t5_val_bleu_list[-1]}.\")\n",
    "print(f\"The best BLUE score is {max(t5_val_bleu_list)} on {np.argmax(tran_val_bleu_list) + 1} step.\")"
   ]
  },
  {
   "cell_type": "code",
   "execution_count": 51,
   "id": "cca9ec58",
   "metadata": {
    "cellId": "ae85umafpdtzfxj4nkdyzd",
    "collapsed": false,
    "jupyter": {
     "outputs_hidden": false
    }
   },
   "outputs": [
    {
     "name": "stdout",
     "output_type": "stream",
     "text": [
      "BLEU score on the following sentences is 0.0.\n",
      "* Original sentence\t| True translation\t| Predicted translation\n",
      "* you know i m not coming back don t you\t| ведь знаешь что я больше не вернусь\t| знаешь что я не не не не\n",
      "* i don t live in australia anymore i ve moved to new zeal\t| не живу в австралии больше я переехал в новую зеландию\t| не не не я а а а а а ав а я я я я я я я\n",
      "* tom goes to australia three times a year on business\t| три раза в год ездит в австралию по делам\t| в в в авввстрастра вли\n",
      "* tom took off his wedding ring and threw it into the pond\t| снял обручальное кольцо и бросил его в пруд\t| по на на и и в в в в\n",
      "* it s well known that spiders aren t insects\t| известно что пауки не являются насекомыми\t| очень что это не\n",
      "* i thought that tom would apologize but he didn t\t| думал том извинится но он не извинился\t| думал том не не не он он\n",
      "* i think it ll be impossible to do that today\t| думаю сделать это сегодня будет невозможно\t| я это это это сделать\n",
      "* the children are playing hide and seek\t| играют в прятки\t| и и\n",
      "* let me explain everything from the beginning\t| я объясню всё с самого начала\t| мне всё всё все\n",
      "* i m trying to find a publisher for the book i just finished writing\t| пытаюсь найти издателя для книги которую я только что дописал\t| хочу на я я я я что что что\n",
      "##############################\n"
     ]
    }
   ],
   "source": [
    "#!g1.1\n",
    "print_demo_translations(t5_model, t5_val_dataloader, t5_dm.source_tokenizer)"
   ]
  },
  {
   "cell_type": "code",
   "execution_count": 52,
   "id": "95d77ccd",
   "metadata": {
    "cellId": "4dom0v8ln3sw5p0n3aqaog"
   },
   "outputs": [],
   "source": [
    "#!g1.1\n"
   ]
  }
 ],
 "metadata": {
  "language_info": {
   "codemirror_mode": {
    "name": "ipython",
    "version": 3
   },
   "file_extension": ".py",
   "mimetype": "text/x-python",
   "name": "python",
   "nbconvert_exporter": "python",
   "pygments_lexer": "ipython3",
   "version": "3.7.7"
  },
  "notebookId": "57059672-4569-4cb6-a679-9df7271caf81",
  "notebookPath": "pytorch-machine-translation/Transfomers training.ipynb"
 },
 "nbformat": 4,
 "nbformat_minor": 5
}
