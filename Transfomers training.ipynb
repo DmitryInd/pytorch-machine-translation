{
 "cells": [
  {
   "cell_type": "markdown",
   "id": "8056a265",
   "metadata": {
    "cellId": "r1futqjw2128i49z67xcr",
    "execution_id": "e845a90f-bd69-4b5e-9adf-8824389b4a39"
   },
   "source": [
    "### Домашнее задание Transformers Training (50 баллов)"
   ]
  },
  {
   "cell_type": "markdown",
   "id": "41f52c09",
   "metadata": {
    "cellId": "mnwtq79j09khxxrqzgzq2w",
    "execution_id": "e8ec34ac-605d-4a34-8e8a-a090e12c96d7"
   },
   "source": [
    "В этом домашнем задании требуется обучить несколько Transformer-based моделей в задаче машинного перевода. Для обучения можно воспользоваться текущим проектом, так и реализовать свой пайплайн обучения. Если будете использовать проект, теги **TODO** проекта отмечают, какие компоненты надо реализовать.\n",
    "В ноутбуке нужно только отобразить результаты обучения и выводы. Архитектура модели(количество слоев, размерность и тд) остается на ваш выбор.\n",
    "\n",
    "Ваш код обучения нужно выложить на ваш github, в строке ниже дать ссылку на него. В первую очередь будут оцениваться результаты в ноутбуке, код нужен для проверки адекватности результатов. \n",
    "\n",
    "Обучать модели до конца не нужно, только для демонстрации, что модель обучается и рабочая - снижение val_loss, рост bleu_score."
   ]
  },
  {
   "cell_type": "markdown",
   "id": "961f9422",
   "metadata": {
    "cellId": "n66og52tgkl0rmfr1mp6h8",
    "execution_id": "0e195aa1-f541-46a9-ba86-9e3e8a0d8d46"
   },
   "source": [
    "#### Сcылка на ваш github с проектом (ветка hw) - https://github.com/DmitryInd/pytorch-machine-translation/tree/hw\n",
    "\n",
    "Ноутбук с результатами выкладывать на ваш **google диск** курса. "
   ]
  },
  {
   "cell_type": "markdown",
   "id": "0a61ee08",
   "metadata": {
    "cellId": "5dry5kdrusbzvu1ollmuzd",
    "execution_id": "36385032-22c2-4d71-8e10-85ad2de4a3bd"
   },
   "source": [
    "### Данные\n",
    "\n",
    "`\n",
    "wget https://www.manythings.org/anki/rus-eng.zip && unzip rus-eng.zip\n",
    "`\n",
    "\n",
    "Модели нужно обучить на задаче перевода с английского на русский."
   ]
  },
  {
   "cell_type": "code",
   "execution_count": 1,
   "id": "1f46f0fa",
   "metadata": {
    "ExecuteTime": {
     "end_time": "2023-05-12T19:07:55.297768491Z",
     "start_time": "2023-05-12T19:07:55.296872444Z"
    },
    "cellId": "mywe758eqiolqzkvdlazid",
    "collapsed": false,
    "jupyter": {
     "outputs_hidden": false
    }
   },
   "outputs": [],
   "source": [
    "# !wget https://www.manythings.org/anki/rus-eng.zip && unzip rus-eng.zip"
   ]
  },
  {
   "cell_type": "markdown",
   "id": "6a49c434",
   "metadata": {
    "cellId": "z0ffyehoajfjlie0yn2y9",
    "execution_id": "f2e8113a-62f3-4f36-a332-61ec08b36fc7"
   },
   "source": [
    "### Вспомогательные функции"
   ]
  },
  {
   "cell_type": "code",
   "execution_count": 2,
   "id": "8bd404f6",
   "metadata": {
    "cellId": "p52l1xfl3d9kxyr6324y1r"
   },
   "outputs": [],
   "source": [
    "# %pip install sentencepiece torchtext huggingface-hub transformers tokenizer"
   ]
  },
  {
   "cell_type": "code",
   "execution_count": 3,
   "id": "3a5a0b92",
   "metadata": {
    "ExecuteTime": {
     "end_time": "2023-05-12T19:07:55.302043889Z",
     "start_time": "2023-05-12T19:07:55.298218824Z"
    },
    "cellId": "kwc443n3lfqj811ujeu8x",
    "collapsed": false,
    "jupyter": {
     "outputs_hidden": false
    }
   },
   "outputs": [],
   "source": [
    "#!g1.1\n",
    "# Кажется, у меня проблемы с драйверами для видеокарты, из-за чего обучение может в произвольный момент падать\n",
    "# Запрет асинхронных запусков ядра не решает проблему полностью, но заметно снижает вероятность её возникновения\n",
    "# import os\n",
    "# os.environ['CUDA_LAUNCH_BLOCKING']=\"1\""
   ]
  },
  {
   "cell_type": "code",
   "execution_count": 4,
   "id": "d5d2ba52",
   "metadata": {
    "ExecuteTime": {
     "end_time": "2023-05-12T19:07:56.006818409Z",
     "start_time": "2023-05-12T19:07:55.302454224Z"
    },
    "cellId": "fv1w7dcd30bi0waph4pyr",
    "collapsed": false,
    "jupyter": {
     "outputs_hidden": false
    }
   },
   "outputs": [],
   "source": [
    "#!g1.1\n",
    "import torch\n",
    "import numpy as np\n",
    "\n",
    "if torch.cuda.is_available():\n",
    "    DEVICE = 'cuda'\n",
    "else:\n",
    "    DEVICE = 'cpu'"
   ]
  },
  {
   "cell_type": "code",
   "execution_count": 5,
   "id": "a8af41d5",
   "metadata": {
    "ExecuteTime": {
     "end_time": "2023-05-12T19:07:56.009481420Z",
     "start_time": "2023-05-12T19:07:56.008293261Z"
    },
    "cellId": "af5pbq8yscr0ax144se705",
    "collapsed": false,
    "jupyter": {
     "outputs_hidden": false
    }
   },
   "outputs": [],
   "source": [
    "#!g1.1\n",
    "def print_learning_parameters(data_config, model_config):\n",
    "    print(f\"Parameters of the model:\")\n",
    "    print(f\"* Learning rate is {model_config['learning_rate']}.\")\n",
    "    if 'div_factor' in model_config:\n",
    "        print(f\"* OneCycleLR with warm up and linear decrease of learning rate to division factor {model_config['div_factor']} is in use.\")\n",
    "    else:\n",
    "        print(\"* Adafactor with constant learning rate is in use.\")\n",
    "    print(f\"* Batch size is {data_config['batch_size']}.\")\n",
    "    if data_config['pretrained_input_tokenizer_name'] is not None:\n",
    "        print(f\"* The tokenizer for input values uses the pretrained vocabulary from '{data_config['pretrained_input_tokenizer_name']}'.\")\n",
    "    if data_config['pretrained_output_tokenizer_name'] is not None:\n",
    "        print(f\"* The tokenizer for output values uses the pretrained vocabulary from '{data_config['pretrained_output_tokenizer_name']}'.\")\n",
    "    print(f\"* The number of epochs is {model_config['epoch_num']}.\")\n",
    "    if \"pretrained_model_name\" in model_config:\n",
    "        print(f\"* Pretrained parameters from '{model_config['pretrained_model_name']}' is used.\")\n",
    "    if 'emb_size' in model_config:\n",
    "        print(f\"* The size of embeddings/hidden states is {model_config['emb_size']}.\")\n",
    "    if 'num_encoder_layers' in model_config and 'num_decoder_layers' in model_config:\n",
    "        print(f\"* The numbers of encoder and decoder layers are {model_config['num_encoder_layers']} and {model_config['num_decoder_layers']}.\")\n",
    "    if 'num_heads' in model_config:\n",
    "        print(f\"* There are {model_config['num_heads']} heads for self-attention and encoder-decoder attention\")"
   ]
  },
  {
   "cell_type": "code",
   "execution_count": 6,
   "id": "81ffeb80",
   "metadata": {
    "ExecuteTime": {
     "end_time": "2023-05-12T19:07:56.051737317Z",
     "start_time": "2023-05-12T19:07:56.010997870Z"
    },
    "cellId": "j8zhb2as5pgp4f9x8kysn",
    "collapsed": false,
    "jupyter": {
     "outputs_hidden": false
    }
   },
   "outputs": [],
   "source": [
    "#!g1.1\n",
    "import re\n",
    "import matplotlib.pylab as plt\n",
    "\n",
    "MATCH_REGEX = re.compile(r\"[+-]?\\b(\\d+([.]\\d*)?([eE][+-]?\\d+)?|[.]\\d+([eE][+-]?\\d+)?)\\b\")\n",
    "\n",
    "def extract_values(string):\n",
    "    result = dict()\n",
    "    params = ['val_loss', 'train_loss', 'bleu_score']\n",
    "    if \"train_loss\" in string:\n",
    "        found_vals = [re_match[0] for re_match in re.findall(MATCH_REGEX, string)]\n",
    "\n",
    "        if len(params) == len(found_vals):\n",
    "            for name, val in zip(params, found_vals):\n",
    "                result[name] = float(val)\n",
    "    return result\n",
    "\n",
    "def plot_results(train_loss_list, val_loss_list, val_bleu_list, run_name):\n",
    "    fig, (ax1, ax2) = plt.subplots(1, 2, figsize=(20, 5))\n",
    "\n",
    "    ax1.plot(range(len(train_loss_list)), train_loss_list, label='train loss')\n",
    "    ax1.plot(range(len(val_loss_list)), val_loss_list, label='val loss')\n",
    "    ax1.set_xlabel('epoch')\n",
    "    ax1.set_ylabel('loss')\n",
    "    ax1.legend()\n",
    "\n",
    "    ax2.plot(range(len(val_bleu_list)), val_bleu_list, label='val bleu')\n",
    "    ax2.set_xlabel('epoch')\n",
    "    ax2.set_ylabel('BLEU')\n",
    "    ax2.legend()\n",
    "\n",
    "    fig.suptitle(run_name, fontsize=20)\n",
    "    plt.show()"
   ]
  },
  {
   "cell_type": "code",
   "execution_count": 7,
   "id": "9e46ca0a",
   "metadata": {
    "ExecuteTime": {
     "end_time": "2023-05-12T19:07:56.088079675Z",
     "start_time": "2023-05-12T19:07:56.052112915Z"
    },
    "cellId": "ifkinndplqgbsk349j9o48",
    "collapsed": false,
    "jupyter": {
     "outputs_hidden": false
    }
   },
   "outputs": [],
   "source": [
    "#!g1.1\n",
    "def print_demo_translations(model, val_dataloader, input_tokenizer, sentence_num=10):\n",
    "    input_tensor, target_tensor = val_dataloader.__iter__().__next__()\n",
    "    input_tensor = input_tensor[:sentence_num]\n",
    "    target_tensor = target_tensor[:sentence_num]\n",
    "    with torch.no_grad():\n",
    "        predicted_samples, _ = model.forward(input_tensor)\n",
    "    bleu_score, actual_sentences, predicted_sentences = model.eval_bleu(predicted_samples, target_tensor)\n",
    "    print(f'BLEU score on the following sentences is {bleu_score}.')\n",
    "    print(\"* Original sentence\\t| True translation\\t| Predicted translation\")\n",
    "    for in_tens, actual, pred in zip(input_tensor, actual_sentences, predicted_sentences):\n",
    "        print(f\"* {' '.join(input_tokenizer.decode(in_tens.tolist()))}\\t| {actual}\\t| {pred}\")\n",
    "    print('##############################')"
   ]
  },
  {
   "cell_type": "code",
   "execution_count": 8,
   "id": "51d6cd55",
   "metadata": {
    "cellId": "40sx9hyg6ny1o18vnjved6i"
   },
   "outputs": [],
   "source": [
    "#!g1.1\n",
    "import sys  \n",
    "sys.path.insert(1, \"./src\")"
   ]
  },
  {
   "cell_type": "markdown",
   "id": "e06f08f7",
   "metadata": {
    "cellId": "2atnm6qqfmf1jmed13aucm",
    "execution_id": "8caf4cc5-d4cb-47e0-bac2-ee8f71460a2b",
    "tags": []
   },
   "source": [
    "### Обучение Seq2seq Transformer модель(25 баллов)\n",
    "\n",
    "Реализуйте Seq2seq Transformer. В качестве блока трансформера можно использовать https://pytorch.org/docs/stable/generated/torch.nn.Transformer.html. В качестве токенизатора воспользуйтесь HuggingFace токенизатор для source/target языков - https://huggingface.co/docs/transformers/fast_tokenizers\n",
    "В качестве максимальной длинны возьмите предложения длинной **до 15 слов**, без каких либо префиксов. \n",
    "\n",
    "Не забудьте остальные элементы модели:\n",
    "* Мы можем использовать 1 трансформер как энкодер - декодером будет выступать линейный слой. \n",
    "* Обучите свой BPE токенизатор - https://huggingface.co/docs/transformers/fast_tokenizers\n",
    "* Матрицу эмбеддингов токенов\n",
    "* Матрицу позиционных эмбеддингов\n",
    "* Линейный слой проекции в target словарь\n",
    "* Функцию маскирования будущих состояний attention, так как модель авто-регрессионна\n",
    "* Learning rate scheduler\n",
    "\n",
    "\n",
    "В качестве результатов, приложите следующие данные:\n",
    "1) Параметры обучения - learning rate, batch_size, epoch_num, размерность скрытого слоя, количество слоев\n",
    "2) Графики обучения - train loss, val loss, bleu score\n",
    "3) Примеры переводов вашей модели(10 штук) - source text, true target text, predicted target text"
   ]
  },
  {
   "cell_type": "code",
   "execution_count": 9,
   "id": "7b2ff6a8",
   "metadata": {
    "ExecuteTime": {
     "end_time": "2023-05-12T19:07:56.264799322Z",
     "start_time": "2023-05-12T19:07:56.076891617Z"
    },
    "cellId": "uihj1hloyob7jbg69rs36e",
    "collapsed": false,
    "jupyter": {
     "outputs_hidden": false
    }
   },
   "outputs": [],
   "source": [
    "#!g1.1\n",
    "import yaml\n",
    "from models import trainer\n",
    "from data.datamodule import DataManager\n",
    "from txt_logger import TXTLogger\n",
    "from models.seq2seq_transformer import Seq2SeqTransformer\n",
    "from models.seq2seq_t5 import Seq2SeqT5"
   ]
  },
  {
   "cell_type": "markdown",
   "id": "0bf42d67",
   "metadata": {
    "cellId": "ciq4za3olep4plm5p261m",
    "execution_id": "9ca5e323-8744-4714-b427-a199bd5a6f70"
   },
   "source": [
    "### Конфигурация модели и алгоритма обучения"
   ]
  },
  {
   "cell_type": "code",
   "execution_count": 10,
   "id": "9b2064e0",
   "metadata": {
    "ExecuteTime": {
     "end_time": "2023-05-12T19:07:56.305732206Z",
     "start_time": "2023-05-12T19:07:56.305448961Z"
    },
    "cellId": "qrakqoe7fq1c8kpr6ou81",
    "collapsed": false,
    "jupyter": {
     "outputs_hidden": false
    }
   },
   "outputs": [
    {
     "name": "stdout",
     "output_type": "stream",
     "text": [
      "Parameters of the model:\n",
      "* Learning rate is 0.0001.\n",
      "* OneCycleLR with warm up and linear decrease of learning rate to division factor 10000 is in use.\n",
      "* Batch size is 256.\n",
      "* The number of epochs is 5.\n",
      "* The size of embeddings/hidden states is 510.\n",
      "* The numbers of encoder and decoder layers are 4 and 4.\n",
      "* There are 6 heads for self-attention and encoder-decoder attention\n"
     ]
    }
   ],
   "source": [
    "#!g1.1\n",
    "transformer_data_config = yaml.load(open(\"configs/data_config.yaml\", 'r'), Loader=yaml.Loader)\n",
    "transformer_model_config = yaml.load(open(\"configs/transformer_config.yaml\", 'r'), Loader=yaml.Loader)\n",
    "print_learning_parameters(transformer_data_config, transformer_model_config)"
   ]
  },
  {
   "cell_type": "markdown",
   "id": "1fe63785",
   "metadata": {
    "cellId": "xutin0dssn8ea4rueqedub",
    "execution_id": "0b7d7b74-6730-4e9f-bd3c-1295c5f1ca09"
   },
   "source": [
    "### Обучение модели"
   ]
  },
  {
   "cell_type": "code",
   "execution_count": 11,
   "id": "36e5a174",
   "metadata": {
    "ExecuteTime": {
     "end_time": "2023-05-12T19:08:35.074195107Z",
     "start_time": "2023-05-12T19:07:56.305860781Z"
    },
    "cellId": "yd724c8xetvmi99yfl21",
    "execution_id": "b02f6a3c-96d6-44e0-bb98-87c4072a59b1",
    "tags": []
   },
   "outputs": [
    {
     "name": "stderr",
     "output_type": "stream",
     "text": [
      "Reading from file: 100%|██████████| 467119/467119 [00:08<00:00, 52106.06it/s]\n"
     ]
    },
    {
     "data": {
      "application/vnd.jupyter.widget-view+json": {
       "model_id": "cfa464f5d3c74c36ab1299d5056d010c",
       "version_major": 2,
       "version_minor": 0
      },
      "text/plain": [
       "HBox(children=(HTML(value=''), FloatProgress(value=0.0, max=5.0), HTML(value='')))"
      ]
     },
     "metadata": {},
     "output_type": "display_data"
    },
    {
     "data": {
      "application/vnd.jupyter.widget-view+json": {
       "model_id": "b31ff83574b44c5984c15ae76d7a96b5",
       "version_major": 2,
       "version_minor": 0
      },
      "text/plain": [
       "HBox(children=(HTML(value=''), FloatProgress(value=0.0, max=961.0), HTML(value='')))"
      ]
     },
     "metadata": {},
     "output_type": "display_data"
    },
    {
     "data": {
      "application/vnd.jupyter.widget-view+json": {
       "model_id": "be98d1ec7c5040eb8bba640826ddef6b",
       "version_major": 2,
       "version_minor": 0
      },
      "text/plain": [
       "HBox(children=(HTML(value=''), FloatProgress(value=0.0, max=240.0), HTML(value='')))"
      ]
     },
     "metadata": {},
     "output_type": "display_data"
    },
    {
     "data": {
      "application/vnd.jupyter.widget-view+json": {
       "model_id": "c2cba364a16048deaaf0c7d9628a991f",
       "version_major": 2,
       "version_minor": 0
      },
      "text/plain": [
       "HBox(children=(HTML(value=''), FloatProgress(value=0.0, max=961.0), HTML(value='')))"
      ]
     },
     "metadata": {},
     "output_type": "display_data"
    },
    {
     "data": {
      "application/vnd.jupyter.widget-view+json": {
       "model_id": "1e1f7833c1db4e2f917f0c6a06138780",
       "version_major": 2,
       "version_minor": 0
      },
      "text/plain": [
       "HBox(children=(HTML(value=''), FloatProgress(value=0.0, max=240.0), HTML(value='')))"
      ]
     },
     "metadata": {},
     "output_type": "display_data"
    },
    {
     "data": {
      "application/vnd.jupyter.widget-view+json": {
       "model_id": "d867def572d842888736588f3d7ae40a",
       "version_major": 2,
       "version_minor": 0
      },
      "text/plain": [
       "HBox(children=(HTML(value=''), FloatProgress(value=0.0, max=961.0), HTML(value='')))"
      ]
     },
     "metadata": {},
     "output_type": "display_data"
    },
    {
     "data": {
      "application/vnd.jupyter.widget-view+json": {
       "model_id": "b2823cb2847d4acda52516cb742c3202",
       "version_major": 2,
       "version_minor": 0
      },
      "text/plain": [
       "HBox(children=(HTML(value=''), FloatProgress(value=0.0, max=240.0), HTML(value='')))"
      ]
     },
     "metadata": {},
     "output_type": "display_data"
    },
    {
     "data": {
      "application/vnd.jupyter.widget-view+json": {
       "model_id": "6b010bda06334a559e582e84a086f8f3",
       "version_major": 2,
       "version_minor": 0
      },
      "text/plain": [
       "HBox(children=(HTML(value=''), FloatProgress(value=0.0, max=961.0), HTML(value='')))"
      ]
     },
     "metadata": {},
     "output_type": "display_data"
    },
    {
     "data": {
      "application/vnd.jupyter.widget-view+json": {
       "model_id": "11f26ca203aa4fa995cccc9dfc00b3ad",
       "version_major": 2,
       "version_minor": 0
      },
      "text/plain": [
       "HBox(children=(HTML(value=''), FloatProgress(value=0.0, max=240.0), HTML(value='')))"
      ]
     },
     "metadata": {},
     "output_type": "display_data"
    },
    {
     "data": {
      "application/vnd.jupyter.widget-view+json": {
       "model_id": "acef10bf89fc41b889cec10a1ce41509",
       "version_major": 2,
       "version_minor": 0
      },
      "text/plain": [
       "HBox(children=(HTML(value=''), FloatProgress(value=0.0, max=961.0), HTML(value='')))"
      ]
     },
     "metadata": {},
     "output_type": "display_data"
    },
    {
     "data": {
      "application/vnd.jupyter.widget-view+json": {
       "model_id": "73b9245b41f241b894d69b0b0211a577",
       "version_major": 2,
       "version_minor": 0
      },
      "text/plain": [
       "HBox(children=(HTML(value=''), FloatProgress(value=0.0, max=240.0), HTML(value='')))"
      ]
     },
     "metadata": {},
     "output_type": "display_data"
    },
    {
     "name": "stdout",
     "output_type": "stream",
     "text": [
      "\n",
      "\n",
      "\n",
      "\n",
      "\n",
      "\n",
      "Current BLEU:  0.015352623994219841\n",
      "тебя действительно выперли из команды ---> ты действительно очень на на\n",
      "я и не думал что ещё увижу тома живым ---> я никогда не что я я том тома тома\n",
      "будем надеяться что это в последний раз ---> давай что это это это это это\n",
      "том собирается в следующие выходные в бостон ---> том будет в бостон в бостон бостон бостон\n",
      "том сказал мне что мне нужно быть более напористым ---> том сказал мне мне мне мне нужно быть\n",
      "##############################\n",
      "Current BLEU:  0.04140174390343821\n",
      "том сказал что может подождать до половины третьего ---> том сказал что может может ждать\n",
      "вода стала грязной из за дождя ---> вода дождь дождь дождь дождь\n",
      "не думаю что из тома вышел бы очень хороший начальник ---> не думаю что том том очень хороший\n",
      "она отсутствовала в школе по болезни ---> она была из из из из\n",
      "не знаю как мы с этим справимся ---> я не знаю как мы\n",
      "##############################\n",
      "Current BLEU:  0.042666374304112756\n",
      "школа находится в пяти минутах ходьбы от станции ---> в школе в пять пять пять пять минут минут\n",
      "хочешь меня разжалобить ---> хочешь хочешь меня меня меня меня\n",
      "том сказал мне что он не будет нас ждать ---> том сказал мне что он не будет ждать ждать ждать ждать\n",
      "я бы хотел знать телефонный номер ближайшего отделения americ ---> я хотел бы знать знать из из из из\n",
      "тома не будет в офисе в течение трёх дней ---> том будет из три три дня дня дня\n",
      "##############################\n",
      "Current BLEU:  0.09493957646214518\n",
      "по понедельникам джексоны всегда дома ---> погода всегда всегда по по\n",
      "мне ещё нужно кое что сделать ---> у меня ещё ещё ещё ещё ещё ещё\n",
      "том сказал что не хочет со мной разговаривать ---> том сказал что не хочет со со мной\n",
      "я вроде бы тебе сказал идти быстрее ---> я думал что тебе тебе тебе\n",
      "в молодости моя мать была очень красива ---> моя мать была очень очень довольно был\n",
      "##############################\n",
      "Current BLEU:  0.06013214404387736\n",
      "том не хотел идти по канату без страховочной сетки ---> том не хотел ходить на без без на\n",
      "том вообще говорил тебе что нибудь об этом ---> том нибудь нибудь нибудь нибудь нибудь об этом этом этом\n",
      "я не так хорошо играю на тромбоне как том ---> я не хорошо хорошо как как как как как\n",
      "я открыл дверцу машины и вытолкнул тома ---> я открыл машину машину и и от машины машины\n",
      "какой твой любимый банановый десерт ---> какой у тебя любимый с с\n",
      "##############################\n",
      "Last 4 epoch train loss:  0.9796086598757526\n",
      "Last 4 epoch val loss:  2.3374791870514553\n",
      "Last 4 epoch val bleu:  0.06013214404387736\n"
     ]
    }
   ],
   "source": [
    "#!g1.1\n",
    "tran_dm = DataManager(transformer_data_config, DEVICE)\n",
    "tran_train_dataloader, tran_val_dataloader = tran_dm.prepare_data()\n",
    "\n",
    "transformer = Seq2SeqTransformer(\n",
    "    device=DEVICE,\n",
    "    encoder_vocab_size=len(tran_dm.source_tokenizer.index2word),\n",
    "    decoder_vocab_size=len(tran_dm.target_tokenizer.index2word),\n",
    "    target_tokenizer=tran_dm.target_tokenizer,\n",
    "    start_symbol=tran_dm.target_tokenizer.sos_token,\n",
    "    lr=transformer_model_config['learning_rate'],\n",
    "    total_steps=transformer_model_config['epoch_num']*len(tran_train_dataloader),\n",
    "    emb_size=transformer_model_config['emb_size'],\n",
    "    num_heads=transformer_model_config['num_heads'],\n",
    "    num_encoder_layers=transformer_model_config['num_encoder_layers'],\n",
    "    num_decoder_layers=transformer_model_config['num_decoder_layers'],\n",
    "    dropout=transformer_model_config['dropout'],\n",
    "    div_factor=transformer_model_config['div_factor']\n",
    ")\n",
    "\n",
    "tran_logger = TXTLogger(transformer_model_config['path_to_log'])\n",
    "tran_trainer_cls = trainer.Trainer(model=transformer, model_config=transformer_model_config, logger=tran_logger)\n",
    "\n",
    "if transformer_model_config['try_one_batch']:\n",
    "    tran_train_dataloader = [list(tran_train_dataloader)[0]]\n",
    "    tran_val_dataloader = [list(tran_val_dataloader)[0]]\n",
    "\n",
    "tran_trainer_cls.train(tran_train_dataloader, tran_val_dataloader)"
   ]
  },
  {
   "cell_type": "code",
   "execution_count": 12,
   "id": "bc957e80",
   "metadata": {
    "cellId": "juvlvlakysjgkz8qk8jn",
    "collapsed": false,
    "execution_id": "b591da9a-1a4d-4f84-9fdb-d413d97e208b",
    "jupyter": {
     "outputs_hidden": false
    }
   },
   "outputs": [],
   "source": [
    "#!g1.1\n",
    "import os\n",
    "file_content = open(os.path.join(transformer_model_config['path_to_log'], \"progress_log.txt\"), 'r').read().split(\"\\n\")\n",
    "tran_train_loss_list, tran_val_loss_list, tran_val_bleu_list = [], [], []\n",
    "for line in file_content:\n",
    "    d = extract_values(line)\n",
    "    if len(d) > 0:\n",
    "        tran_train_loss_list.append(d['train_loss'])\n",
    "        tran_val_loss_list.append(d['val_loss'])\n",
    "        tran_val_bleu_list.append(d['bleu_score'])"
   ]
  },
  {
   "cell_type": "code",
   "execution_count": 13,
   "id": "762c8095",
   "metadata": {
    "cellId": "8l3pvcd1c57a82t12q29a6",
    "collapsed": false,
    "execution_id": "93f3d3c8-b69b-4554-9a63-c53f78c4efaf",
    "jupyter": {
     "outputs_hidden": false
    }
   },
   "outputs": [
    {
     "data": {
      "image/png": "[encoded data removed]",
      "text/plain": [
       "<Figure size 1440x360 with 2 Axes>"
      ]
     },
     "metadata": {
      "needs_background": "light"
     },
     "output_type": "display_data"
    }
   ],
   "source": [
    "#!g1.1\n",
    "plot_results(tran_train_loss_list, tran_val_loss_list, tran_val_bleu_list, run_name='Transformer training')"
   ]
  },
  {
   "cell_type": "markdown",
   "id": "51fb797e",
   "metadata": {
    "cellId": "ykb7y23qhh9jd43r5ewo9",
    "execution_id": "dda8f1a9-683d-4807-a428-e640910d1c3f"
   },
   "source": [
    "### Итоговое качество модели/примеры переводов"
   ]
  },
  {
   "cell_type": "code",
   "execution_count": 23,
   "id": "8887fd99",
   "metadata": {
    "cellId": "s3wlf47tu3lga7kvh570el",
    "collapsed": false,
    "jupyter": {
     "outputs_hidden": false
    }
   },
   "outputs": [
    {
     "name": "stdout",
     "output_type": "stream",
     "text": [
      "Final BLUE score is 0.06013214404387736.\n",
      "The best BLUE score is 0.09493957646214518 on 4 epoch.\n"
     ]
    }
   ],
   "source": [
    "#!g1.1\n",
    "print(f\"Final BLUE score is {tran_val_bleu_list[-1]}.\")\n",
    "print(f\"The best BLUE score is {max(tran_val_bleu_list)} on {np.argmax(tran_val_bleu_list) + 1} epoch.\")"
   ]
  },
  {
   "cell_type": "code",
   "execution_count": 15,
   "id": "cc9034e4",
   "metadata": {
    "cellId": "l59ne6onqvapcy3y0we86",
    "collapsed": false,
    "execution_id": "46df5996-bc28-4fc6-8731-599a4054c6e0",
    "jupyter": {
     "outputs_hidden": false
    }
   },
   "outputs": [
    {
     "name": "stdout",
     "output_type": "stream",
     "text": [
      "BLEU score on the following sentences is 0.0.\n",
      "* Original sentence\t| True translation\t| Predicted translation\n",
      "* he satisfied his thirst with a large glass of beer\t| он утолил жажду большим стаканом пива\t| он доволен с с с с\n",
      "* tom anticipated that there would be trouble\t| том предчувствовал беду\t| том тома там там там было было\n",
      "* tom and mary went to the beach by bicycle\t| том и мэри поехали на велосипедах на пляж\t| том и мэри пошли на на на на\n",
      "* my father exercises every day for his health\t| мой отец каждый день занимается для своего здоровья\t| мой отец каждый каждый день день\n",
      "* the year before last we went to europe\t| в позапрошлом году мы ездили в европу\t| в год до до в в в в\n",
      "* you can stay here till the snow stops\t| ты можешь остаться здесь пока снег не перестанет\t| можешь остаться здесь здесь до до\n",
      "* do you know how to convert from celsius to fahren\t| ты умеешь переводить цельсии в фаренгейты\t| ты знаешь как от от от от от\n",
      "* i promise i ll mop the floor tomorrow morning\t| я обещаю что помою пол завтра утром\t| обещаю обещаю я завтра утром завтра\n",
      "* the prosecutor asked me a leading question\t| прокурор задал мне наводящий вопрос\t| передай меня мне вопрос вопрос вопрос\n",
      "* tom brushes his teeth at least three times a day\t| том чистит зубы по крайней мере три раза в день\t| том почти раз раз раз раз раз раз раза день\n",
      "##############################\n"
     ]
    }
   ],
   "source": [
    "#!g1.1\n",
    "print_demo_translations(transformer, tran_val_dataloader, tran_dm.source_tokenizer)"
   ]
  },
  {
   "cell_type": "markdown",
   "id": "3f1a1512",
   "metadata": {
    "cellId": "v7qy477nhhm4lrblyfsamy",
    "execution_id": "e44fdd6a-cd2c-4998-8ec6-51ae47035d45"
   },
   "source": [
    "### Fine-tune pretrained T5 (25 баллов)\n",
    "\n",
    "Реализуйте Seq2seq Pretrained T5. Воспользуйтесь https://huggingface.co/docs/transformers/model_doc/t5 предобученной моделью. В качестве максимальной длинны возьмите предложения длинной **до 15 слов**, без каких либо префиксов. Архитектура модели(количество слоев, размерность и тд) остается на ваш выбор.\n",
    "\n",
    "Не забудьте важные аспекты обучения модели:\n",
    "* Взять готовый t5 токенизатор\n",
    "* Resize matrix embedding - скорей всего ваша матрица эмбеддингов не будет включать эмбеддинги из вашего сета. Пример обновления матрицы эмбеддингов тут тут https://github.com/runnerup96/Transformers-Tuning/blob/main/t5_encoder_decoder.py\n",
    "* Learning rate scheduler/Adafactor with constant learning rate\n",
    "\n",
    "\n",
    "В качестве результатов, приложите следующие данные:\n",
    "1) Параметры обучения - learning rate, batch_size, epoch_num, pretrained model name\n",
    "2) Графики обучения - train loss, val loss, bleu score\n",
    "3) Примеры переводов вашей модели(10 штук) - source text, true target text, predicted target text"
   ]
  },
  {
   "cell_type": "markdown",
   "id": "a979160f",
   "metadata": {
    "cellId": "p9fw0n7jissdphij69u2g",
    "execution_id": "e37b0b25-193a-4c30-8c9f-f7ed18b9f1a6"
   },
   "source": [
    "### Конфигурация модели и алгоритма обучения"
   ]
  },
  {
   "cell_type": "code",
   "execution_count": 16,
   "id": "756f115b",
   "metadata": {
    "ExecuteTime": {
     "end_time": "2023-05-12T19:07:56.305732206Z",
     "start_time": "2023-05-12T19:07:56.305448961Z"
    },
    "cellId": "te5044sjz6o5qmfjns6ze2",
    "collapsed": false,
    "execution_id": "3e4bec4a-36fd-49cc-acfe-90889160d791",
    "jupyter": {
     "outputs_hidden": false
    }
   },
   "outputs": [
    {
     "name": "stdout",
     "output_type": "stream",
     "text": [
      "Parameters of the model:\n",
      "* Learning rate is 0.003.\n",
      "* Adafactor with constant learning rate is in use.\n",
      "* Batch size is 192.\n",
      "* The tokenizer for input values uses the pretrained vocabulary from 'google/t5-efficient-mini'.\n",
      "* The tokenizer for output values uses the pretrained vocabulary from 'ai-forever/ruT5-base'.\n",
      "* The number of epochs is 5.\n",
      "* Pretrained parameters from 'google/t5-efficient-mini' is used.\n"
     ]
    }
   ],
   "source": [
    "#!g1.1\n",
    "t5_data_config = yaml.load(open(\"configs/data_t5_config.yaml\", 'r'), Loader=yaml.Loader)\n",
    "t5_model_config = yaml.load(open(\"configs/model_t5_config.yaml\", 'r'), Loader=yaml.Loader)\n",
    "print_learning_parameters(t5_data_config, t5_model_config)"
   ]
  },
  {
   "cell_type": "markdown",
   "id": "7e703880",
   "metadata": {
    "cellId": "6pcnk32x968zlhve8d7v3",
    "execution_id": "dc90da4d-89d0-45f0-a2e8-8028c3cf0e4c"
   },
   "source": [
    "### Обучение модели"
   ]
  },
  {
   "cell_type": "code",
   "execution_count": 17,
   "id": "ac01807a",
   "metadata": {
    "ExecuteTime": {
     "end_time": "2023-05-12T19:08:35.074195107Z",
     "start_time": "2023-05-12T19:07:56.305860781Z"
    },
    "cellId": "ant5581t0v4mp5vw0td0je",
    "tags": []
   },
   "outputs": [
    {
     "name": "stderr",
     "output_type": "stream",
     "text": [
      "Reading from file: 100%|██████████| 467119/467119 [00:09<00:00, 49604.04it/s]\n"
     ]
    },
    {
     "data": {
      "application/vnd.jupyter.widget-view+json": {
       "model_id": "99872bd41f0a4041b74bfee0fbd9de9a",
       "version_major": 2,
       "version_minor": 0
      },
      "text/plain": [
       "HBox(children=(HTML(value='Downloading'), FloatProgress(value=0.0, max=791656.0), HTML(value='')))"
      ]
     },
     "metadata": {},
     "output_type": "display_data"
    },
    {
     "data": {
      "application/vnd.jupyter.widget-view+json": {
       "model_id": "3c0bbf741850471fbcf4f607044b033e",
       "version_major": 2,
       "version_minor": 0
      },
      "text/plain": [
       "HBox(children=(HTML(value='Downloading'), FloatProgress(value=0.0, max=1786.0), HTML(value='')))"
      ]
     },
     "metadata": {},
     "output_type": "display_data"
    },
    {
     "data": {
      "application/vnd.jupyter.widget-view+json": {
       "model_id": "a20d2753fc794b8c972918bb1e603caa",
       "version_major": 2,
       "version_minor": 0
      },
      "text/plain": [
       "HBox(children=(HTML(value='Downloading'), FloatProgress(value=0.0, max=1970.0), HTML(value='')))"
      ]
     },
     "metadata": {},
     "output_type": "display_data"
    },
    {
     "data": {
      "application/vnd.jupyter.widget-view+json": {
       "model_id": "c100366236c543688cb668a8fb73f959",
       "version_major": 2,
       "version_minor": 0
      },
      "text/plain": [
       "HBox(children=(HTML(value='Downloading'), FloatProgress(value=0.0, max=1389370.0), HTML(value='')))"
      ]
     },
     "metadata": {},
     "output_type": "display_data"
    },
    {
     "data": {
      "application/vnd.jupyter.widget-view+json": {
       "model_id": "1d61f8109995436bb56c718da6e5c93c",
       "version_major": 2,
       "version_minor": 0
      },
      "text/plain": [
       "HBox(children=(HTML(value='Downloading'), FloatProgress(value=0.0, max=1003118.0), HTML(value='')))"
      ]
     },
     "metadata": {},
     "output_type": "display_data"
    },
    {
     "data": {
      "application/vnd.jupyter.widget-view+json": {
       "model_id": "cd73d89154cd498eb6a054047edfa668",
       "version_major": 2,
       "version_minor": 0
      },
      "text/plain": [
       "HBox(children=(HTML(value='Downloading'), FloatProgress(value=0.0, max=1400.0), HTML(value='')))"
      ]
     },
     "metadata": {},
     "output_type": "display_data"
    },
    {
     "data": {
      "application/vnd.jupyter.widget-view+json": {
       "model_id": "85bcfc5c65894331856bbebc70bac37f",
       "version_major": 2,
       "version_minor": 0
      },
      "text/plain": [
       "HBox(children=(HTML(value='Downloading'), FloatProgress(value=0.0, max=628.0), HTML(value='')))"
      ]
     },
     "metadata": {},
     "output_type": "display_data"
    },
    {
     "data": {
      "application/vnd.jupyter.widget-view+json": {
       "model_id": "c376318f56a143508ce5f2ae0b5ec26d",
       "version_major": 2,
       "version_minor": 0
      },
      "text/plain": [
       "HBox(children=(HTML(value='Downloading'), FloatProgress(value=0.0, max=124920602.0), HTML(value='')))"
      ]
     },
     "metadata": {},
     "output_type": "display_data"
    },
    {
     "data": {
      "application/vnd.jupyter.widget-view+json": {
       "model_id": "ab9337baae52462d9c84430b40af42fe",
       "version_major": 2,
       "version_minor": 0
      },
      "text/plain": [
       "HBox(children=(HTML(value=''), FloatProgress(value=0.0, max=5.0), HTML(value='')))"
      ]
     },
     "metadata": {},
     "output_type": "display_data"
    },
    {
     "data": {
      "application/vnd.jupyter.widget-view+json": {
       "model_id": "e4c75736e4f948a8a4538d4716adc2ef",
       "version_major": 2,
       "version_minor": 0
      },
      "text/plain": [
       "HBox(children=(HTML(value=''), FloatProgress(value=0.0, max=1281.0), HTML(value='')))"
      ]
     },
     "metadata": {},
     "output_type": "display_data"
    },
    {
     "data": {
      "application/vnd.jupyter.widget-view+json": {
       "model_id": "638cdd3505f14ffa97ce857608fae34a",
       "version_major": 2,
       "version_minor": 0
      },
      "text/plain": [
       "HBox(children=(HTML(value=''), FloatProgress(value=0.0, max=320.0), HTML(value='')))"
      ]
     },
     "metadata": {},
     "output_type": "display_data"
    },
    {
     "name": "stdout",
     "output_type": "stream",
     "text": [
      "\n",
      "\n",
      "\n",
      "\n",
      "\n",
      "\n",
      "\n",
      "\n",
      "Current BLEU:  0.0\n",
      "не понимаю почему том так себя ведёт ---> не что том том том\n",
      "много лет водит этот грузовик ---> был в в в в\n",
      "думаю что имею представление о том чем том может заниматься прямо сейчас ---> том том том том том\n",
      "подумал что это было очень хорошо с твоей стороны сделать это для тома ---> что что это это это это\n",
      "рост безработицы результат рецессии ---> это в\n",
      "##############################\n"
     ]
    },
    {
     "data": {
      "application/vnd.jupyter.widget-view+json": {
       "model_id": "a59dae47369b407f9a2a709b05a0eda8",
       "version_major": 2,
       "version_minor": 0
      },
      "text/plain": [
       "HBox(children=(HTML(value=''), FloatProgress(value=0.0, max=1281.0), HTML(value='')))"
      ]
     },
     "metadata": {},
     "output_type": "display_data"
    },
    {
     "data": {
      "application/vnd.jupyter.widget-view+json": {
       "model_id": "8ae4c568925f452c8087f62e6a291040",
       "version_major": 2,
       "version_minor": 0
      },
      "text/plain": [
       "HBox(children=(HTML(value=''), FloatProgress(value=0.0, max=320.0), HTML(value='')))"
      ]
     },
     "metadata": {},
     "output_type": "display_data"
    },
    {
     "name": "stdout",
     "output_type": "stream",
     "text": [
      "Current BLEU:  0.03187658593219395\n",
      "этом году сезон дождей наступил рано ---> в в в в в в\n",
      "концерте было столько народа ---> было много много много\n",
      "был действительно рад слышать что мэри собирается помочь ему переехать ---> очень рад рад что мэри емуи\n",
      "спросил меня как дела в школе ---> попросил меня о как в в\n",
      "как говорится ходячая энциклопедия ---> то что они по по\n",
      "##############################\n"
     ]
    },
    {
     "data": {
      "application/vnd.jupyter.widget-view+json": {
       "model_id": "d819fb0f55994325b6e5e03410003edc",
       "version_major": 2,
       "version_minor": 0
      },
      "text/plain": [
       "HBox(children=(HTML(value=''), FloatProgress(value=0.0, max=1281.0), HTML(value='')))"
      ]
     },
     "metadata": {},
     "output_type": "display_data"
    },
    {
     "data": {
      "application/vnd.jupyter.widget-view+json": {
       "model_id": "9dab03a1374d4ff48aa1dd8386a7b8b4",
       "version_major": 2,
       "version_minor": 0
      },
      "text/plain": [
       "HBox(children=(HTML(value=''), FloatProgress(value=0.0, max=320.0), HTML(value='')))"
      ]
     },
     "metadata": {},
     "output_type": "display_data"
    },
    {
     "name": "stdout",
     "output_type": "stream",
     "text": [
      "Current BLEU:  0.0522277443889056\n",
      "что том единственный близкий друг маши ---> похоже том мэр мэрии\n",
      "играл в футбол а моя сестра в теннис ---> играл в футбол и и сестра в в теннис теннис\n",
      "наконец выяснил от чего у меня болела нога ---> наконец нашли что что у у у\n",
      "сказал что никто ещё ничего не сделал ---> сказал что никто больше не не\n",
      "уже решили что будете заказывать ---> решил что что хочешь\n",
      "##############################\n"
     ]
    },
    {
     "data": {
      "application/vnd.jupyter.widget-view+json": {
       "model_id": "798f65868046438cb8fbdd3e5485dfd0",
       "version_major": 2,
       "version_minor": 0
      },
      "text/plain": [
       "HBox(children=(HTML(value=''), FloatProgress(value=0.0, max=1281.0), HTML(value='')))"
      ]
     },
     "metadata": {},
     "output_type": "display_data"
    },
    {
     "data": {
      "application/vnd.jupyter.widget-view+json": {
       "model_id": "c3e7603e620d43d88db11ef8db228d53",
       "version_major": 2,
       "version_minor": 0
      },
      "text/plain": [
       "HBox(children=(HTML(value=''), FloatProgress(value=0.0, max=320.0), HTML(value='')))"
      ]
     },
     "metadata": {},
     "output_type": "display_data"
    },
    {
     "name": "stdout",
     "output_type": "stream",
     "text": [
      "Current BLEU:  0.05470895855241321\n",
      "бы мы больше работали у нас бы получилось ---> бы мы мы мы мы мы мы мы получилось\n",
      "единственный кто меня действительно понимает ---> единственный кто меня меня понимает понимает\n",
      "не видел здесь где нибудь степлер ---> не видишь где где где\n",
      "бы он не полетел тем рейсом он был бы сейчас живой ---> он я не тот тот и он\n",
      "сказал что думает что мэри арестуют ---> сказал что думал мэр мэри арестуют\n",
      "##############################\n"
     ]
    },
    {
     "data": {
      "application/vnd.jupyter.widget-view+json": {
       "model_id": "7f96ae712909448c86aa1c551ad42109",
       "version_major": 2,
       "version_minor": 0
      },
      "text/plain": [
       "HBox(children=(HTML(value=''), FloatProgress(value=0.0, max=1281.0), HTML(value='')))"
      ]
     },
     "metadata": {},
     "output_type": "display_data"
    },
    {
     "data": {
      "application/vnd.jupyter.widget-view+json": {
       "model_id": "97eb0d01f0cd483fa5f7021c23466bed",
       "version_major": 2,
       "version_minor": 0
      },
      "text/plain": [
       "HBox(children=(HTML(value=''), FloatProgress(value=0.0, max=320.0), HTML(value='')))"
      ]
     },
     "metadata": {},
     "output_type": "display_data"
    },
    {
     "name": "stdout",
     "output_type": "stream",
     "text": [
      "Current BLEU:  0.10490708413534929\n",
      "была не настолько глупа чтобы рассказывать ему подобную историю ---> была лучше чем сказать ему как как\n",
      "буду в бостоне до вечера понедельника ---> буду в бостонстон в понедельник понедельник\n",
      "арестовала всех кто был в комнате ---> арестовала всех в комнате\n",
      "и мэри оба знают что это вряд ли случится ---> том мэри знают что это вряд что случится\n",
      "не знал что том не планирует этого делать ---> не знал что том не планирует этого делать\n",
      "##############################\n",
      "Last 4 epoch train loss:  0.7841052019344839\n",
      "Last 4 epoch val loss:  1.8371920503675938\n",
      "Last 4 epoch val bleu:  0.10490708413534929\n"
     ]
    }
   ],
   "source": [
    "#!g1.1\n",
    "t5_dm = DataManager(t5_data_config, DEVICE)\n",
    "t5_train_dataloader, t5_val_dataloader = t5_dm.prepare_data()\n",
    "\n",
    "t5_model = Seq2SeqT5(\n",
    "    device=DEVICE,\n",
    "    pretrained_name=t5_model_config['pretrained_model_name'],\n",
    "    encoder_vocab_size=len(t5_dm.source_tokenizer.index2word),\n",
    "    decoder_vocab_size=len(t5_dm.target_tokenizer.index2word),\n",
    "    target_tokenizer=t5_dm.target_tokenizer,\n",
    "    start_symbol=t5_dm.target_tokenizer.pad_token,\n",
    "    lr=t5_model_config['learning_rate'],\n",
    "    are_source_target_tokenizers_same=t5_model_config['are_source_target_tokenizers_same']\n",
    ")\n",
    "\n",
    "t5_logger = TXTLogger(t5_model_config['path_to_log'])\n",
    "t5_trainer_cls = trainer.Trainer(model=t5_model, model_config=t5_model_config, logger=t5_logger)\n",
    "\n",
    "if t5_model_config['try_one_batch']:\n",
    "    train_dataloader = [list(t5_train_dataloader)[0]]\n",
    "    tran_val_dataloader = [list(t5_val_dataloader)[0]]\n",
    "\n",
    "t5_trainer_cls.train(t5_train_dataloader, t5_val_dataloader)"
   ]
  },
  {
   "cell_type": "code",
   "execution_count": 18,
   "id": "7f4485fa",
   "metadata": {
    "cellId": "xe1wa3p71yizwtfad3kfm",
    "collapsed": false,
    "jupyter": {
     "outputs_hidden": false
    }
   },
   "outputs": [],
   "source": [
    "#!g1.1\n",
    "file_content = open(os.path.join(t5_model_config['path_to_log'], \"progress_log.txt\"), 'r').read().split(\"\\n\")\n",
    "t5_train_loss_list, t5_val_loss_list, t5_val_bleu_list = [], [], []\n",
    "for line in file_content:\n",
    "    d = extract_values(line)\n",
    "    if len(d) > 0:\n",
    "        t5_train_loss_list.append(d['train_loss'])\n",
    "        t5_val_loss_list.append(d['val_loss'])\n",
    "        t5_val_bleu_list.append(d['bleu_score'])"
   ]
  },
  {
   "cell_type": "code",
   "execution_count": 19,
   "id": "4709ff50",
   "metadata": {
    "cellId": "g4e0nalw5ib83yn3z3yawo",
    "collapsed": false,
    "jupyter": {
     "outputs_hidden": false
    }
   },
   "outputs": [
    {
     "data": {
      "image/png": "[encoded data removed]",
      "text/plain": [
       "<Figure size 1440x360 with 2 Axes>"
      ]
     },
     "metadata": {
      "needs_background": "light"
     },
     "output_type": "display_data"
    }
   ],
   "source": [
    "#!g1.1\n",
    "plot_results(t5_train_loss_list, t5_val_loss_list, t5_val_bleu_list, run_name='Transformer training')"
   ]
  },
  {
   "cell_type": "markdown",
   "id": "8cba9659",
   "metadata": {
    "cellId": "ob2qwkwcn6mwmcm57095q",
    "execution_id": "8f8222ee-75aa-44c2-8b1a-5623a7319ccd"
   },
   "source": [
    "### Итоговое качество модели/примеры переводов"
   ]
  },
  {
   "cell_type": "code",
   "execution_count": 22,
   "id": "6233eb75",
   "metadata": {
    "cellId": "j3n620ew4pwm1nosjzt2g",
    "collapsed": false,
    "jupyter": {
     "outputs_hidden": false
    }
   },
   "outputs": [
    {
     "name": "stdout",
     "output_type": "stream",
     "text": [
      "Final BLUE score is 0.10490708413534929.\n",
      "The best BLUE score is 0.10490708413534929 on 5 epoch.\n"
     ]
    }
   ],
   "source": [
    "#!g1.1\n",
    "print(f\"Final BLUE score is {t5_val_bleu_list[-1]}.\")\n",
    "print(f\"The best BLUE score is {max(t5_val_bleu_list)} on {np.argmax(t5_val_bleu_list) + 1} epoch.\")"
   ]
  },
  {
   "cell_type": "code",
   "execution_count": 21,
   "id": "d4577e6a",
   "metadata": {
    "cellId": "ae85umafpdtzfxj4nkdyzd",
    "collapsed": false,
    "jupyter": {
     "outputs_hidden": false
    }
   },
   "outputs": [
    {
     "name": "stdout",
     "output_type": "stream",
     "text": [
      "BLEU score on the following sentences is 0.0.\n",
      "* Original sentence\t| True translation\t| Predicted translation\n",
      "* is there a restaurant around here that serves local delicacies\t| нибудь здесь есть ресторан где подают местные деликатесы\t| здесь здесь здесь здесь здесь\n",
      "* mary broke tom s nose on their first date\t| первом свидании мэри разбила тому нос\t| и расстаа на на на на на\n",
      "* who does this suitcase here belong to\t| принадлежит этот чемодан\t| принадлежит этот чемодан здесь\n",
      "* tom is the one causing all the problems\t| из за тома все проблемы\t| том от всех проблемы\n",
      "* what s the one thing you would have done differently\t| бы ты сделал по другому\t| чего ты бы бы бы\n",
      "* what do dogs and wolves have in common\t| общего между собаками и волками\t| собаки собаки и волк волк\n",
      "* tom cut himself with a knife this morning\t| сегодня утром ножом порезался\t| сегодня порезалрезал ножом ножом\n",
      "* to his surprise the thief turned out to be his own son\t| его удивлению вор оказался его собственным сыном\t| желание своё своего своего\n",
      "* in american movies the black guy always dies first\t| американских фильмах темнокожий парень всегда умирает первым\t| китайский в которого которого всегда всегда улыбается\n",
      "* lithuania is a member of the european union\t| ва член евросоюза\t| пания состоит состоит\n",
      "##############################\n"
     ]
    }
   ],
   "source": [
    "#!g1.1\n",
    "print_demo_translations(t5_model, t5_val_dataloader, t5_dm.source_tokenizer)"
   ]
  }
 ],
 "metadata": {
  "language_info": {
   "codemirror_mode": {
    "name": "ipython",
    "version": 3
   },
   "file_extension": ".py",
   "mimetype": "text/x-python",
   "name": "python",
   "nbconvert_exporter": "python",
   "pygments_lexer": "ipython3",
   "version": "3.7.7"
  },
  "notebookId": "57059672-4569-4cb6-a679-9df7271caf81",
  "notebookPath": "pytorch-machine-translation/Transfomers training.ipynb"
 },
 "nbformat": 4,
 "nbformat_minor": 5
}
